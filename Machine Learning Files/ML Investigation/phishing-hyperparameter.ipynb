{
 "cells": [
  {
   "metadata": {},
   "cell_type": "markdown",
   "source": [
    "## Introduction\n",
    "Models have been selected by monitoring performance internally and externally, the chosen models are XGBoost trained on the Phishtank dataset (A) and Random Forest trained on dataset A. An ensemble model is also considered due to promising results. Optuna will be used to find optimal hyperparameters on both models and they will be tested externally on the Kaggle dataset.\n",
    "\n",
    "## Setup\n",
    "Import the necessary libraries and create the functions to get a range of scores for the performance of the optimised models. We also set up the data by getting the data and creating train-test splits to use for training. We only train on dataset A as that was shown to have better results than dataset B.\n"
   ],
   "id": "1a04437bc991722c"
  },
  {
   "metadata": {
    "ExecuteTime": {
     "end_time": "2025-04-26T20:16:01.756082Z",
     "start_time": "2025-04-26T20:16:00.796119Z"
    }
   },
   "cell_type": "code",
   "source": [
    "# Standard imports\n",
    "import pandas as pd\n",
    "from IPython.display import display\n",
    "\n",
    "# Models\n",
    "from sklearn.ensemble import RandomForestClassifier\n",
    "from xgboost import XGBClassifier\n",
    "\n",
    "\n",
    "# Evaluation\n",
    "from sklearn.model_selection import  train_test_split, learning_curve\n",
    "from sklearn.metrics import  confusion_matrix, f1_score, precision_score, recall_score, roc_auc_score, roc_curve\n",
    "import optuna\n",
    "\n",
    "# Explainability\n",
    "import shap"
   ],
   "id": "234370c5640c44d3",
   "outputs": [],
   "execution_count": 1
  },
  {
   "metadata": {
    "ExecuteTime": {
     "end_time": "2025-04-26T20:16:02.497680Z",
     "start_time": "2025-04-26T20:16:02.492319Z"
    }
   },
   "cell_type": "code",
   "source": [
    "def appendScores(model, X_test, y_test): #scoring functions from previous notebook\n",
    "    y_pred = model.predict(X_test)\n",
    "    scores = {}\n",
    "    scores['Accuracy'] = model.score(X_test,y_test)\n",
    "    scores['F1 Score'] = f1_score(y_test, y_pred)\n",
    "    scores['Precision'] = precision_score(y_test, y_pred)\n",
    "    scores['Recall'] = recall_score(y_test, y_pred)\n",
    "    try:\n",
    "        scores['ROC AUC:'] = roc_auc_score(y_test, model.predict_proba(X_test)[:, 1])\n",
    "    except AttributeError:\n",
    "        # Some models might not have predict_proba method\n",
    "        scores['ROC AUC:'] = \"Not available\"\n",
    "    return pd.DataFrame([scores])\n",
    "\n",
    "\n",
    "def getScores(model, internal_test_featuresX, internal_test_labely, external_featuresX, external_labely ):\n",
    "    internal_scores = appendScores(model, internal_test_featuresX, internal_test_labely)\n",
    "    internal_scores.index = ['Internal']\n",
    "\n",
    "    external_scores = appendScores(model, external_featuresX, external_labely)\n",
    "    external_scores.index = ['External']\n",
    "    df = pd.concat(\n",
    "        [internal_scores, external_scores]\n",
    "    )\n",
    "    display(df)"
   ],
   "id": "255c5212b3227a61",
   "outputs": [],
   "execution_count": 2
  },
  {
   "metadata": {
    "ExecuteTime": {
     "end_time": "2025-04-26T20:16:03.369219Z",
     "start_time": "2025-04-26T20:16:03.313476Z"
    }
   },
   "cell_type": "code",
   "source": [
    "phishA = pd.read_csv(\"Datasets/Final_datasets/extracted_phishtank_features.csv\")\n",
    "kaggleB = pd.read_csv(\"Datasets/Final_datasets/final_kaggle_data.csv\")"
   ],
   "id": "8290f262368425d4",
   "outputs": [],
   "execution_count": 3
  },
  {
   "metadata": {
    "ExecuteTime": {
     "end_time": "2025-04-26T20:16:06.187228Z",
     "start_time": "2025-04-26T20:16:06.180051Z"
    }
   },
   "cell_type": "code",
   "source": [
    "aX = phishA.drop(columns=['phishing'])\n",
    "ay = phishA['phishing']\n",
    "bX = kaggleB.drop(columns=['phishing'])\n",
    "by = kaggleB['phishing']"
   ],
   "id": "829115753e8f2aa9",
   "outputs": [],
   "execution_count": 4
  },
  {
   "metadata": {},
   "cell_type": "markdown",
   "source": "The previous well performing models will be used as a baseline to compare the tuned models with.",
   "id": "8200ca0e93912cf1"
  },
  {
   "metadata": {
    "ExecuteTime": {
     "end_time": "2025-04-26T20:16:07.112990Z",
     "start_time": "2025-04-26T20:16:07.094398Z"
    }
   },
   "cell_type": "code",
   "source": [
    "from sklearn.pipeline import Pipeline\n",
    "\n",
    "aX_train, aX_test, ay_train, ay_test = train_test_split(aX, ay, test_size=0.2, random_state=42)\n",
    "\n",
    "randforestA = Pipeline([('randomforesta', RandomForestClassifier(n_estimators=100, random_state=42))])\n",
    "xgboostA = Pipeline([('xgba', XGBClassifier(eval_metric='logloss', random_state=42))\n",
    "])"
   ],
   "id": "f3c15f311f70fc7a",
   "outputs": [],
   "execution_count": 5
  },
  {
   "metadata": {
    "ExecuteTime": {
     "end_time": "2025-04-26T20:16:12.043191Z",
     "start_time": "2025-04-26T20:16:09.380038Z"
    }
   },
   "cell_type": "code",
   "source": [
    "randforestA = randforestA.fit(aX_train, ay_train) #fit models at the start for later use\n",
    "xgboostA = xgboostA.fit(aX_train, ay_train)"
   ],
   "id": "90e0ddc0e5c5e9e8",
   "outputs": [],
   "execution_count": 6
  },
  {
   "metadata": {},
   "cell_type": "markdown",
   "source": [
    "## Optimisation\n",
    "Both selected models provide a large range of hyperparameters that should be optimised to gain the most out of them. For the optimisation process Optuna will be used. This is due to a plethora of reasons, namely efficiency, visualisation and the ability to deal with complex models such as XGBoost. Optuna utilises Bayesian optimisation techniques to explore the search space efficiently, compared to Gridsearch this method is less computationally expensive.\n",
    "\n",
    "### Random Forest"
   ],
   "id": "97f92618101e1645"
  },
  {
   "metadata": {
    "ExecuteTime": {
     "end_time": "2025-04-24T23:54:08.754920Z",
     "start_time": "2025-04-24T23:03:52.480109Z"
    }
   },
   "cell_type": "code",
   "source": [
    "from sklearn.model_selection import StratifiedKFold\n",
    "\n",
    "\n",
    "# Define the objective function\n",
    "def objective(trial):\n",
    "\n",
    "    n_estimators = trial.suggest_int('n_estimators',50, 500, log=True)  # Number of trees\n",
    "    max_depth = trial.suggest_int('max_depth', 2, 16)  # Maximum depth of trees\n",
    "    min_samples_split = trial.suggest_int('min_samples_split', 10,100)  # Minimum number of samples to split a node\n",
    "    min_samples_leaf = trial.suggest_int('min_samples_leaf', 5,50)  # Minimum number of samples required at a leaf node\n",
    "    max_features = trial.suggest_categorical('max_features', [ 'sqrt', 'log2', None])  # Number of features to consider at each split\n",
    "\n",
    "    # Initialize the Random Forest Classifier with the suggested hyperparameters\n",
    "    rf = RandomForestClassifier(\n",
    "        n_estimators=n_estimators,\n",
    "        max_depth=max_depth,\n",
    "        min_samples_split=min_samples_split,\n",
    "        min_samples_leaf=min_samples_leaf,\n",
    "        max_features=max_features,\n",
    "        random_state=42\n",
    "    )\n",
    "    cv = StratifiedKFold(n_splits=5, shuffle=True, random_state=42) #use stratified cross validation\n",
    "    score = cross_val_score(rf, aX_train, ay_train, cv=cv, scoring='f1').mean()\n",
    "    return score\n",
    "\n",
    "# Create and run the Optuna study\n",
    "study = optuna.create_study(direction='maximize')  # We're maximizing f1\n",
    "study.optimize(objective, n_trials=100)  # Run optimization for 100 trials\n",
    "\n",
    "# Check the best hyperparameters\n",
    "print(\"Best hyperparameters found: \", study.best_params)"
   ],
   "id": "9d0cf9744114a8c0",
   "outputs": [
    {
     "name": "stderr",
     "output_type": "stream",
     "text": [
      "[I 2025-04-25 00:03:52,486] A new study created in memory with name: no-name-e0be8729-d7f3-497d-8fda-86f08b08cc9c\n",
      "[I 2025-04-25 00:03:57,747] Trial 0 finished with value: 0.8754056928695004 and parameters: {'n_estimators': 253, 'max_depth': 2, 'min_samples_split': 69, 'min_samples_leaf': 35, 'max_features': 'log2'}. Best is trial 0 with value: 0.8754056928695004.\n",
      "[I 2025-04-25 00:04:01,580] Trial 1 finished with value: 0.9195130225251755 and parameters: {'n_estimators': 59, 'max_depth': 13, 'min_samples_split': 68, 'min_samples_leaf': 24, 'max_features': 'log2'}. Best is trial 1 with value: 0.9195130225251755.\n",
      "[I 2025-04-25 00:04:29,873] Trial 2 finished with value: 0.9161085673668536 and parameters: {'n_estimators': 202, 'max_depth': 5, 'min_samples_split': 37, 'min_samples_leaf': 13, 'max_features': None}. Best is trial 1 with value: 0.9195130225251755.\n",
      "[I 2025-04-25 00:04:55,239] Trial 3 finished with value: 0.8734045804201973 and parameters: {'n_estimators': 406, 'max_depth': 2, 'min_samples_split': 42, 'min_samples_leaf': 27, 'max_features': None}. Best is trial 1 with value: 0.9195130225251755.\n",
      "[I 2025-04-25 00:05:28,103] Trial 4 finished with value: 0.9251877289824744 and parameters: {'n_estimators': 116, 'max_depth': 12, 'min_samples_split': 58, 'min_samples_leaf': 10, 'max_features': None}. Best is trial 4 with value: 0.9251877289824744.\n",
      "[I 2025-04-25 00:05:57,394] Trial 5 finished with value: 0.9227369747755052 and parameters: {'n_estimators': 105, 'max_depth': 15, 'min_samples_split': 51, 'min_samples_leaf': 31, 'max_features': None}. Best is trial 4 with value: 0.9251877289824744.\n",
      "[I 2025-04-25 00:06:14,393] Trial 6 finished with value: 0.9227847437436404 and parameters: {'n_estimators': 247, 'max_depth': 11, 'min_samples_split': 48, 'min_samples_leaf': 7, 'max_features': 'sqrt'}. Best is trial 4 with value: 0.9251877289824744.\n",
      "[I 2025-04-25 00:07:02,574] Trial 7 finished with value: 0.919073556517063 and parameters: {'n_estimators': 190, 'max_depth': 12, 'min_samples_split': 21, 'min_samples_leaf': 50, 'max_features': None}. Best is trial 4 with value: 0.9251877289824744.\n",
      "[I 2025-04-25 00:07:15,802] Trial 8 finished with value: 0.9180029856713576 and parameters: {'n_estimators': 69, 'max_depth': 7, 'min_samples_split': 99, 'min_samples_leaf': 48, 'max_features': None}. Best is trial 4 with value: 0.9251877289824744.\n",
      "[I 2025-04-25 00:07:46,680] Trial 9 finished with value: 0.9057184382782635 and parameters: {'n_estimators': 267, 'max_depth': 4, 'min_samples_split': 73, 'min_samples_leaf': 7, 'max_features': None}. Best is trial 4 with value: 0.9251877289824744.\n",
      "[I 2025-04-25 00:07:53,487] Trial 10 finished with value: 0.9176253356946358 and parameters: {'n_estimators': 117, 'max_depth': 9, 'min_samples_split': 97, 'min_samples_leaf': 19, 'max_features': 'sqrt'}. Best is trial 4 with value: 0.9251877289824744.\n",
      "[I 2025-04-25 00:08:01,979] Trial 11 finished with value: 0.9232493040730437 and parameters: {'n_estimators': 121, 'max_depth': 11, 'min_samples_split': 25, 'min_samples_leaf': 6, 'max_features': 'sqrt'}. Best is trial 4 with value: 0.9251877289824744.\n",
      "[I 2025-04-25 00:08:10,375] Trial 12 finished with value: 0.9232861227345988 and parameters: {'n_estimators': 113, 'max_depth': 15, 'min_samples_split': 15, 'min_samples_leaf': 15, 'max_features': 'sqrt'}. Best is trial 4 with value: 0.9251877289824744.\n",
      "[I 2025-04-25 00:08:16,458] Trial 13 finished with value: 0.92230542462965 and parameters: {'n_estimators': 81, 'max_depth': 16, 'min_samples_split': 15, 'min_samples_leaf': 16, 'max_features': 'sqrt'}. Best is trial 4 with value: 0.9251877289824744.\n",
      "[I 2025-04-25 00:08:26,866] Trial 14 finished with value: 0.9222191452648248 and parameters: {'n_estimators': 145, 'max_depth': 14, 'min_samples_split': 60, 'min_samples_leaf': 13, 'max_features': 'sqrt'}. Best is trial 4 with value: 0.9251877289824744.\n",
      "[I 2025-04-25 00:08:32,023] Trial 15 finished with value: 0.9178745399888969 and parameters: {'n_estimators': 87, 'max_depth': 9, 'min_samples_split': 30, 'min_samples_leaf': 21, 'max_features': 'log2'}. Best is trial 4 with value: 0.9251877289824744.\n",
      "[I 2025-04-25 00:08:35,618] Trial 16 finished with value: 0.9200204959043315 and parameters: {'n_estimators': 50, 'max_depth': 16, 'min_samples_split': 85, 'min_samples_leaf': 12, 'max_features': 'sqrt'}. Best is trial 4 with value: 0.9251877289824744.\n",
      "[I 2025-04-25 00:08:45,714] Trial 17 finished with value: 0.9187127028678305 and parameters: {'n_estimators': 155, 'max_depth': 13, 'min_samples_split': 10, 'min_samples_leaf': 37, 'max_features': 'sqrt'}. Best is trial 4 with value: 0.9251877289824744.\n",
      "[I 2025-04-25 00:11:00,784] Trial 18 finished with value: 0.9240406701337843 and parameters: {'n_estimators': 491, 'max_depth': 11, 'min_samples_split': 60, 'min_samples_leaf': 18, 'max_features': None}. Best is trial 4 with value: 0.9251877289824744.\n",
      "[I 2025-04-25 00:12:35,616] Trial 19 finished with value: 0.9201016086058686 and parameters: {'n_estimators': 490, 'max_depth': 7, 'min_samples_split': 81, 'min_samples_leaf': 21, 'max_features': None}. Best is trial 4 with value: 0.9251877289824744.\n",
      "[I 2025-04-25 00:14:02,933] Trial 20 finished with value: 0.9210953073158283 and parameters: {'n_estimators': 354, 'max_depth': 10, 'min_samples_split': 56, 'min_samples_leaf': 41, 'max_features': None}. Best is trial 4 with value: 0.9251877289824744.\n",
      "[I 2025-04-25 00:14:32,597] Trial 21 finished with value: 0.9252403573512821 and parameters: {'n_estimators': 97, 'max_depth': 14, 'min_samples_split': 63, 'min_samples_leaf': 11, 'max_features': None}. Best is trial 21 with value: 0.9252403573512821.\n",
      "[I 2025-04-25 00:14:59,679] Trial 22 finished with value: 0.9250075776048157 and parameters: {'n_estimators': 92, 'max_depth': 13, 'min_samples_split': 63, 'min_samples_leaf': 10, 'max_features': None}. Best is trial 21 with value: 0.9252403573512821.\n",
      "[I 2025-04-25 00:15:27,808] Trial 23 finished with value: 0.923776109055302 and parameters: {'n_estimators': 94, 'max_depth': 13, 'min_samples_split': 78, 'min_samples_leaf': 10, 'max_features': None}. Best is trial 21 with value: 0.9252403573512821.\n",
      "[I 2025-04-25 00:15:51,552] Trial 24 finished with value: 0.9256722220688618 and parameters: {'n_estimators': 76, 'max_depth': 14, 'min_samples_split': 61, 'min_samples_leaf': 5, 'max_features': None}. Best is trial 24 with value: 0.9256722220688618.\n",
      "[I 2025-04-25 00:16:13,781] Trial 25 finished with value: 0.9257577205692902 and parameters: {'n_estimators': 70, 'max_depth': 14, 'min_samples_split': 51, 'min_samples_leaf': 9, 'max_features': None}. Best is trial 25 with value: 0.9257577205692902.\n",
      "[I 2025-04-25 00:16:36,759] Trial 26 finished with value: 0.9269511802380016 and parameters: {'n_estimators': 70, 'max_depth': 15, 'min_samples_split': 47, 'min_samples_leaf': 5, 'max_features': None}. Best is trial 26 with value: 0.9269511802380016.\n",
      "[I 2025-04-25 00:16:41,746] Trial 27 finished with value: 0.9242393451416904 and parameters: {'n_estimators': 64, 'max_depth': 15, 'min_samples_split': 43, 'min_samples_leaf': 5, 'max_features': 'log2'}. Best is trial 26 with value: 0.9269511802380016.\n",
      "[I 2025-04-25 00:17:05,975] Trial 28 finished with value: 0.9287152644029307 and parameters: {'n_estimators': 75, 'max_depth': 16, 'min_samples_split': 35, 'min_samples_leaf': 5, 'max_features': None}. Best is trial 28 with value: 0.9287152644029307.\n",
      "[I 2025-04-25 00:17:10,914] Trial 29 finished with value: 0.9238785410293445 and parameters: {'n_estimators': 61, 'max_depth': 16, 'min_samples_split': 34, 'min_samples_leaf': 8, 'max_features': 'log2'}. Best is trial 28 with value: 0.9287152644029307.\n",
      "[I 2025-04-25 00:17:25,992] Trial 30 finished with value: 0.9258971637476596 and parameters: {'n_estimators': 51, 'max_depth': 16, 'min_samples_split': 48, 'min_samples_leaf': 16, 'max_features': None}. Best is trial 28 with value: 0.9287152644029307.\n",
      "[I 2025-04-25 00:17:41,535] Trial 31 finished with value: 0.9258414721179753 and parameters: {'n_estimators': 52, 'max_depth': 16, 'min_samples_split': 48, 'min_samples_leaf': 15, 'max_features': None}. Best is trial 28 with value: 0.9287152644029307.\n",
      "[I 2025-04-25 00:17:56,924] Trial 32 finished with value: 0.9240964229550956 and parameters: {'n_estimators': 52, 'max_depth': 16, 'min_samples_split': 41, 'min_samples_leaf': 24, 'max_features': None}. Best is trial 28 with value: 0.9287152644029307.\n",
      "[I 2025-04-25 00:18:14,784] Trial 33 finished with value: 0.926953695312017 and parameters: {'n_estimators': 57, 'max_depth': 15, 'min_samples_split': 34, 'min_samples_leaf': 14, 'max_features': None}. Best is trial 28 with value: 0.9287152644029307.\n",
      "[I 2025-04-25 00:18:32,927] Trial 34 finished with value: 0.9275527166916555 and parameters: {'n_estimators': 59, 'max_depth': 15, 'min_samples_split': 31, 'min_samples_leaf': 14, 'max_features': None}. Best is trial 28 with value: 0.9287152644029307.\n",
      "[I 2025-04-25 00:18:37,010] Trial 35 finished with value: 0.9193922207829562 and parameters: {'n_estimators': 59, 'max_depth': 15, 'min_samples_split': 31, 'min_samples_leaf': 27, 'max_features': 'log2'}. Best is trial 28 with value: 0.9287152644029307.\n",
      "[I 2025-04-25 00:18:58,134] Trial 36 finished with value: 0.9258387400553003 and parameters: {'n_estimators': 74, 'max_depth': 12, 'min_samples_split': 38, 'min_samples_leaf': 13, 'max_features': None}. Best is trial 28 with value: 0.9287152644029307.\n",
      "[I 2025-04-25 00:19:16,923] Trial 37 finished with value: 0.9223953242976035 and parameters: {'n_estimators': 65, 'max_depth': 15, 'min_samples_split': 29, 'min_samples_leaf': 31, 'max_features': None}. Best is trial 28 with value: 0.9287152644029307.\n",
      "[I 2025-04-25 00:19:33,691] Trial 38 finished with value: 0.9241971249705181 and parameters: {'n_estimators': 58, 'max_depth': 14, 'min_samples_split': 23, 'min_samples_leaf': 23, 'max_features': None}. Best is trial 28 with value: 0.9287152644029307.\n",
      "[I 2025-04-25 00:19:39,002] Trial 39 finished with value: 0.8734045804201973 and parameters: {'n_estimators': 82, 'max_depth': 2, 'min_samples_split': 36, 'min_samples_leaf': 8, 'max_features': None}. Best is trial 28 with value: 0.9287152644029307.\n",
      "[I 2025-04-25 00:19:54,838] Trial 40 finished with value: 0.9225882612677561 and parameters: {'n_estimators': 57, 'max_depth': 13, 'min_samples_split': 43, 'min_samples_leaf': 30, 'max_features': None}. Best is trial 28 with value: 0.9287152644029307.\n",
      "[I 2025-04-25 00:20:10,138] Trial 41 finished with value: 0.9258724075465091 and parameters: {'n_estimators': 50, 'max_depth': 15, 'min_samples_split': 47, 'min_samples_leaf': 16, 'max_features': None}. Best is trial 28 with value: 0.9287152644029307.\n",
      "[I 2025-04-25 00:20:31,473] Trial 42 finished with value: 0.924209720585627 and parameters: {'n_estimators': 72, 'max_depth': 16, 'min_samples_split': 53, 'min_samples_leaf': 20, 'max_features': None}. Best is trial 28 with value: 0.9287152644029307.\n",
      "[I 2025-04-25 00:20:48,342] Trial 43 finished with value: 0.9261848123286098 and parameters: {'n_estimators': 56, 'max_depth': 15, 'min_samples_split': 27, 'min_samples_leaf': 18, 'max_features': None}. Best is trial 28 with value: 0.9287152644029307.\n",
      "[I 2025-04-25 00:21:07,534] Trial 44 finished with value: 0.9260433583168538 and parameters: {'n_estimators': 64, 'max_depth': 15, 'min_samples_split': 27, 'min_samples_leaf': 18, 'max_features': None}. Best is trial 28 with value: 0.9287152644029307.\n",
      "[I 2025-04-25 00:21:45,149] Trial 45 finished with value: 0.9264154010676094 and parameters: {'n_estimators': 130, 'max_depth': 12, 'min_samples_split': 20, 'min_samples_leaf': 14, 'max_features': None}. Best is trial 28 with value: 0.9287152644029307.\n",
      "[I 2025-04-25 00:22:25,001] Trial 46 finished with value: 0.9266168662458529 and parameters: {'n_estimators': 137, 'max_depth': 12, 'min_samples_split': 16, 'min_samples_leaf': 13, 'max_features': None}. Best is trial 28 with value: 0.9287152644029307.\n",
      "[I 2025-04-25 00:23:26,325] Trial 47 finished with value: 0.9302912831744761 and parameters: {'n_estimators': 192, 'max_depth': 14, 'min_samples_split': 16, 'min_samples_leaf': 7, 'max_features': None}. Best is trial 47 with value: 0.9302912831744761.\n",
      "[I 2025-04-25 00:23:41,293] Trial 48 finished with value: 0.9252063778939515 and parameters: {'n_estimators': 194, 'max_depth': 14, 'min_samples_split': 34, 'min_samples_leaf': 6, 'max_features': 'log2'}. Best is trial 47 with value: 0.9302912831744761.\n",
      "[I 2025-04-25 00:24:20,123] Trial 49 finished with value: 0.9192546237020915 and parameters: {'n_estimators': 227, 'max_depth': 6, 'min_samples_split': 18, 'min_samples_leaf': 7, 'max_features': None}. Best is trial 47 with value: 0.9302912831744761.\n",
      "[I 2025-04-25 00:25:42,929] Trial 50 finished with value: 0.9267744161200936 and parameters: {'n_estimators': 277, 'max_depth': 13, 'min_samples_split': 38, 'min_samples_leaf': 11, 'max_features': None}. Best is trial 47 with value: 0.9302912831744761.\n",
      "[I 2025-04-25 00:27:18,795] Trial 51 finished with value: 0.9267539067957362 and parameters: {'n_estimators': 321, 'max_depth': 13, 'min_samples_split': 40, 'min_samples_leaf': 11, 'max_features': None}. Best is trial 47 with value: 0.9302912831744761.\n",
      "[I 2025-04-25 00:28:11,931] Trial 52 finished with value: 0.9274684968285591 and parameters: {'n_estimators': 172, 'max_depth': 14, 'min_samples_split': 35, 'min_samples_leaf': 9, 'max_features': None}. Best is trial 47 with value: 0.9302912831744761.\n",
      "[I 2025-04-25 00:29:10,885] Trial 53 finished with value: 0.9316552552085213 and parameters: {'n_estimators': 181, 'max_depth': 14, 'min_samples_split': 10, 'min_samples_leaf': 5, 'max_features': None}. Best is trial 53 with value: 0.9316552552085213.\n",
      "[I 2025-04-25 00:30:04,343] Trial 54 finished with value: 0.9296353223332184 and parameters: {'n_estimators': 170, 'max_depth': 14, 'min_samples_split': 11, 'min_samples_leaf': 9, 'max_features': None}. Best is trial 53 with value: 0.9316552552085213.\n",
      "[I 2025-04-25 00:30:48,351] Trial 55 finished with value: 0.9279579418036565 and parameters: {'n_estimators': 165, 'max_depth': 10, 'min_samples_split': 10, 'min_samples_leaf': 8, 'max_features': None}. Best is trial 53 with value: 0.9316552552085213.\n",
      "[I 2025-04-25 00:30:59,352] Trial 56 finished with value: 0.9208802370825632 and parameters: {'n_estimators': 178, 'max_depth': 9, 'min_samples_split': 12, 'min_samples_leaf': 7, 'max_features': 'sqrt'}. Best is trial 53 with value: 0.9316552552085213.\n",
      "[I 2025-04-25 00:31:47,836] Trial 57 finished with value: 0.9254309300307879 and parameters: {'n_estimators': 219, 'max_depth': 8, 'min_samples_split': 12, 'min_samples_leaf': 8, 'max_features': None}. Best is trial 53 with value: 0.9316552552085213.\n",
      "[I 2025-04-25 00:32:34,338] Trial 58 finished with value: 0.9280766733072013 and parameters: {'n_estimators': 162, 'max_depth': 11, 'min_samples_split': 22, 'min_samples_leaf': 5, 'max_features': None}. Best is trial 53 with value: 0.9316552552085213.\n",
      "[I 2025-04-25 00:33:17,420] Trial 59 finished with value: 0.9276418452950574 and parameters: {'n_estimators': 161, 'max_depth': 10, 'min_samples_split': 21, 'min_samples_leaf': 5, 'max_features': None}. Best is trial 53 with value: 0.9316552552085213.\n",
      "[I 2025-04-25 00:33:29,966] Trial 60 finished with value: 0.9174961215829128 and parameters: {'n_estimators': 209, 'max_depth': 10, 'min_samples_split': 11, 'min_samples_leaf': 42, 'max_features': 'log2'}. Best is trial 53 with value: 0.9316552552085213.\n",
      "[I 2025-04-25 00:34:13,436] Trial 61 finished with value: 0.9277257524914845 and parameters: {'n_estimators': 162, 'max_depth': 10, 'min_samples_split': 20, 'min_samples_leaf': 5, 'max_features': None}. Best is trial 53 with value: 0.9316552552085213.\n",
      "[I 2025-04-25 00:34:55,538] Trial 62 finished with value: 0.9282951402009294 and parameters: {'n_estimators': 147, 'max_depth': 11, 'min_samples_split': 15, 'min_samples_leaf': 7, 'max_features': None}. Best is trial 53 with value: 0.9316552552085213.\n",
      "[I 2025-04-25 00:35:36,114] Trial 63 finished with value: 0.9278841392636462 and parameters: {'n_estimators': 143, 'max_depth': 11, 'min_samples_split': 15, 'min_samples_leaf': 9, 'max_features': None}. Best is trial 53 with value: 0.9316552552085213.\n",
      "[I 2025-04-25 00:36:06,456] Trial 64 finished with value: 0.9282557622281459 and parameters: {'n_estimators': 106, 'max_depth': 11, 'min_samples_split': 14, 'min_samples_leaf': 7, 'max_features': None}. Best is trial 53 with value: 0.9316552552085213.\n",
      "[I 2025-04-25 00:36:14,034] Trial 65 finished with value: 0.9249382682738542 and parameters: {'n_estimators': 103, 'max_depth': 12, 'min_samples_split': 24, 'min_samples_leaf': 6, 'max_features': 'sqrt'}. Best is trial 53 with value: 0.9316552552085213.\n",
      "[I 2025-04-25 00:36:49,596] Trial 66 finished with value: 0.9273330871592865 and parameters: {'n_estimators': 126, 'max_depth': 11, 'min_samples_split': 17, 'min_samples_leaf': 10, 'max_features': None}. Best is trial 53 with value: 0.9316552552085213.\n",
      "[I 2025-04-25 00:37:48,080] Trial 67 finished with value: 0.9270710003344538 and parameters: {'n_estimators': 238, 'max_depth': 9, 'min_samples_split': 14, 'min_samples_leaf': 7, 'max_features': None}. Best is trial 53 with value: 0.9316552552085213.\n",
      "[I 2025-04-25 00:38:38,302] Trial 68 finished with value: 0.926554012810505 and parameters: {'n_estimators': 180, 'max_depth': 11, 'min_samples_split': 19, 'min_samples_leaf': 12, 'max_features': None}. Best is trial 53 with value: 0.9316552552085213.\n",
      "[I 2025-04-25 00:39:02,800] Trial 69 finished with value: 0.9254854151948866 and parameters: {'n_estimators': 110, 'max_depth': 8, 'min_samples_split': 15, 'min_samples_leaf': 6, 'max_features': None}. Best is trial 53 with value: 0.9316552552085213.\n",
      "[I 2025-04-25 00:39:46,551] Trial 70 finished with value: 0.927947621354346 and parameters: {'n_estimators': 148, 'max_depth': 12, 'min_samples_split': 22, 'min_samples_leaf': 9, 'max_features': None}. Best is trial 53 with value: 0.9316552552085213.\n",
      "[I 2025-04-25 00:40:38,446] Trial 71 finished with value: 0.927918311708311 and parameters: {'n_estimators': 193, 'max_depth': 10, 'min_samples_split': 10, 'min_samples_leaf': 7, 'max_features': None}. Best is trial 53 with value: 0.9316552552085213.\n",
      "[I 2025-04-25 00:41:22,422] Trial 72 finished with value: 0.9282728321284466 and parameters: {'n_estimators': 155, 'max_depth': 11, 'min_samples_split': 13, 'min_samples_leaf': 8, 'max_features': None}. Best is trial 53 with value: 0.9316552552085213.\n",
      "[I 2025-04-25 00:42:05,188] Trial 73 finished with value: 0.9272307155961453 and parameters: {'n_estimators': 153, 'max_depth': 11, 'min_samples_split': 13, 'min_samples_leaf': 10, 'max_features': None}. Best is trial 53 with value: 0.9316552552085213.\n",
      "[I 2025-04-25 00:42:43,638] Trial 74 finished with value: 0.9282097413150711 and parameters: {'n_estimators': 135, 'max_depth': 11, 'min_samples_split': 17, 'min_samples_leaf': 5, 'max_features': None}. Best is trial 53 with value: 0.9316552552085213.\n",
      "[I 2025-04-25 00:43:25,278] Trial 75 finished with value: 0.9302937734621265 and parameters: {'n_estimators': 132, 'max_depth': 14, 'min_samples_split': 17, 'min_samples_leaf': 7, 'max_features': None}. Best is trial 53 with value: 0.9316552552085213.\n",
      "[I 2025-04-25 00:44:02,238] Trial 76 finished with value: 0.9274349013757142 and parameters: {'n_estimators': 124, 'max_depth': 13, 'min_samples_split': 25, 'min_samples_leaf': 12, 'max_features': None}. Best is trial 53 with value: 0.9316552552085213.\n",
      "[I 2025-04-25 00:44:09,945] Trial 77 finished with value: 0.9187328294981436 and parameters: {'n_estimators': 116, 'max_depth': 14, 'min_samples_split': 13, 'min_samples_leaf': 35, 'max_features': 'sqrt'}. Best is trial 53 with value: 0.9316552552085213.\n",
      "[I 2025-04-25 00:44:25,534] Trial 78 finished with value: 0.9254674863018664 and parameters: {'n_estimators': 204, 'max_depth': 14, 'min_samples_split': 17, 'min_samples_leaf': 8, 'max_features': 'log2'}. Best is trial 53 with value: 0.9316552552085213.\n",
      "[I 2025-04-25 00:44:55,739] Trial 79 finished with value: 0.9282456486941223 and parameters: {'n_estimators': 100, 'max_depth': 13, 'min_samples_split': 10, 'min_samples_leaf': 11, 'max_features': None}. Best is trial 53 with value: 0.9316552552085213.\n",
      "[I 2025-04-25 00:45:51,071] Trial 80 finished with value: 0.9248611865791159 and parameters: {'n_estimators': 183, 'max_depth': 14, 'min_samples_split': 69, 'min_samples_leaf': 7, 'max_features': None}. Best is trial 53 with value: 0.9316552552085213.\n",
      "[I 2025-04-25 00:46:20,704] Trial 81 finished with value: 0.9279015901575935 and parameters: {'n_estimators': 101, 'max_depth': 12, 'min_samples_split': 10, 'min_samples_leaf': 11, 'max_features': None}. Best is trial 53 with value: 0.9316552552085213.\n",
      "[I 2025-04-25 00:46:47,511] Trial 82 finished with value: 0.9289740143687419 and parameters: {'n_estimators': 87, 'max_depth': 13, 'min_samples_split': 14, 'min_samples_leaf': 9, 'max_features': None}. Best is trial 53 with value: 0.9316552552085213.\n",
      "[I 2025-04-25 00:47:13,608] Trial 83 finished with value: 0.9293391069370032 and parameters: {'n_estimators': 83, 'max_depth': 14, 'min_samples_split': 19, 'min_samples_leaf': 9, 'max_features': None}. Best is trial 53 with value: 0.9316552552085213.\n",
      "[I 2025-04-25 00:47:37,808] Trial 84 finished with value: 0.9277497418534117 and parameters: {'n_estimators': 80, 'max_depth': 13, 'min_samples_split': 27, 'min_samples_leaf': 9, 'max_features': None}. Best is trial 53 with value: 0.9316552552085213.\n",
      "[I 2025-04-25 00:48:07,616] Trial 85 finished with value: 0.9306995877741631 and parameters: {'n_estimators': 92, 'max_depth': 15, 'min_samples_split': 19, 'min_samples_leaf': 6, 'max_features': None}. Best is trial 53 with value: 0.9316552552085213.\n",
      "[I 2025-04-25 00:48:36,843] Trial 86 finished with value: 0.9311745417716437 and parameters: {'n_estimators': 89, 'max_depth': 16, 'min_samples_split': 19, 'min_samples_leaf': 6, 'max_features': None}. Best is trial 53 with value: 0.9316552552085213.\n",
      "[I 2025-04-25 00:49:05,679] Trial 87 finished with value: 0.9312868027748422 and parameters: {'n_estimators': 88, 'max_depth': 16, 'min_samples_split': 18, 'min_samples_leaf': 6, 'max_features': None}. Best is trial 53 with value: 0.9316552552085213.\n",
      "[I 2025-04-25 00:49:33,502] Trial 88 finished with value: 0.9291332984287649 and parameters: {'n_estimators': 88, 'max_depth': 16, 'min_samples_split': 25, 'min_samples_leaf': 10, 'max_features': None}. Best is trial 53 with value: 0.9316552552085213.\n",
      "[I 2025-04-25 00:50:02,716] Trial 89 finished with value: 0.9311745417716437 and parameters: {'n_estimators': 89, 'max_depth': 16, 'min_samples_split': 19, 'min_samples_leaf': 6, 'max_features': None}. Best is trial 53 with value: 0.9316552552085213.\n",
      "[I 2025-04-25 00:50:33,405] Trial 90 finished with value: 0.9311836650039187 and parameters: {'n_estimators': 93, 'max_depth': 16, 'min_samples_split': 19, 'min_samples_leaf': 6, 'max_features': None}. Best is trial 53 with value: 0.9316552552085213.\n",
      "[I 2025-04-25 00:51:03,198] Trial 91 finished with value: 0.931313426306918 and parameters: {'n_estimators': 91, 'max_depth': 16, 'min_samples_split': 19, 'min_samples_leaf': 6, 'max_features': None}. Best is trial 53 with value: 0.9316552552085213.\n",
      "[I 2025-04-25 00:51:32,077] Trial 92 finished with value: 0.923669934588845 and parameters: {'n_estimators': 95, 'max_depth': 16, 'min_samples_split': 92, 'min_samples_leaf': 6, 'max_features': None}. Best is trial 53 with value: 0.9316552552085213.\n",
      "[I 2025-04-25 00:52:01,198] Trial 93 finished with value: 0.9305879289379557 and parameters: {'n_estimators': 91, 'max_depth': 16, 'min_samples_split': 23, 'min_samples_leaf': 6, 'max_features': None}. Best is trial 53 with value: 0.9316552552085213.\n",
      "[I 2025-04-25 00:52:30,969] Trial 94 finished with value: 0.9305328089996561 and parameters: {'n_estimators': 93, 'max_depth': 16, 'min_samples_split': 22, 'min_samples_leaf': 6, 'max_features': None}. Best is trial 53 with value: 0.9316552552085213.\n",
      "[I 2025-04-25 00:52:59,422] Trial 95 finished with value: 0.9292709699634389 and parameters: {'n_estimators': 91, 'max_depth': 16, 'min_samples_split': 29, 'min_samples_leaf': 6, 'max_features': None}. Best is trial 53 with value: 0.9316552552085213.\n",
      "[I 2025-04-25 00:53:23,887] Trial 96 finished with value: 0.9301243280490971 and parameters: {'n_estimators': 78, 'max_depth': 15, 'min_samples_split': 23, 'min_samples_leaf': 5, 'max_features': None}. Best is trial 53 with value: 0.9316552552085213.\n",
      "[I 2025-04-25 00:53:32,469] Trial 97 finished with value: 0.9261278453810684 and parameters: {'n_estimators': 109, 'max_depth': 16, 'min_samples_split': 20, 'min_samples_leaf': 6, 'max_features': 'log2'}. Best is trial 53 with value: 0.9316552552085213.\n",
      "[I 2025-04-25 00:53:39,120] Trial 98 finished with value: 0.9255235716944616 and parameters: {'n_estimators': 86, 'max_depth': 16, 'min_samples_split': 32, 'min_samples_leaf': 5, 'max_features': 'sqrt'}. Best is trial 53 with value: 0.9316552552085213.\n",
      "[I 2025-04-25 00:54:08,748] Trial 99 finished with value: 0.9287513848935613 and parameters: {'n_estimators': 97, 'max_depth': 15, 'min_samples_split': 27, 'min_samples_leaf': 8, 'max_features': None}. Best is trial 53 with value: 0.9316552552085213.\n"
     ]
    },
    {
     "name": "stdout",
     "output_type": "stream",
     "text": [
      "Best hyperparameters found:  {'n_estimators': 181, 'max_depth': 14, 'min_samples_split': 10, 'min_samples_leaf': 5, 'max_features': None}\n"
     ]
    }
   ],
   "execution_count": 50
  },
  {
   "metadata": {
    "ExecuteTime": {
     "end_time": "2025-04-24T23:58:33.947731Z",
     "start_time": "2025-04-24T23:58:19.944361Z"
    }
   },
   "cell_type": "code",
   "source": [
    "randomforest = RandomForestClassifier(**study.best_params, random_state=42 )\n",
    "randomforest = randomforest.fit(aX_train, ay_train)"
   ],
   "id": "b146dd4414ad08be",
   "outputs": [],
   "execution_count": 51
  },
  {
   "metadata": {
    "ExecuteTime": {
     "end_time": "2025-04-24T23:58:37.601954Z",
     "start_time": "2025-04-24T23:58:36.844402Z"
    }
   },
   "cell_type": "code",
   "source": "getScores(randomforest, aX_test, ay_test, bX, by) #optimised model",
   "id": "b656f822d3e04ddc",
   "outputs": [
    {
     "data": {
      "text/plain": [
       "          Accuracy  F1 Score  Precision    Recall  ROC AUC:\n",
       "Internal  0.928793  0.936561   0.926810  0.946521  0.977995\n",
       "External  0.695087  0.711469   0.640762  0.799715  0.810518"
      ],
      "text/html": [
       "<div>\n",
       "<style scoped>\n",
       "    .dataframe tbody tr th:only-of-type {\n",
       "        vertical-align: middle;\n",
       "    }\n",
       "\n",
       "    .dataframe tbody tr th {\n",
       "        vertical-align: top;\n",
       "    }\n",
       "\n",
       "    .dataframe thead th {\n",
       "        text-align: right;\n",
       "    }\n",
       "</style>\n",
       "<table border=\"1\" class=\"dataframe\">\n",
       "  <thead>\n",
       "    <tr style=\"text-align: right;\">\n",
       "      <th></th>\n",
       "      <th>Accuracy</th>\n",
       "      <th>F1 Score</th>\n",
       "      <th>Precision</th>\n",
       "      <th>Recall</th>\n",
       "      <th>ROC AUC:</th>\n",
       "    </tr>\n",
       "  </thead>\n",
       "  <tbody>\n",
       "    <tr>\n",
       "      <th>Internal</th>\n",
       "      <td>0.928793</td>\n",
       "      <td>0.936561</td>\n",
       "      <td>0.926810</td>\n",
       "      <td>0.946521</td>\n",
       "      <td>0.977995</td>\n",
       "    </tr>\n",
       "    <tr>\n",
       "      <th>External</th>\n",
       "      <td>0.695087</td>\n",
       "      <td>0.711469</td>\n",
       "      <td>0.640762</td>\n",
       "      <td>0.799715</td>\n",
       "      <td>0.810518</td>\n",
       "    </tr>\n",
       "  </tbody>\n",
       "</table>\n",
       "</div>"
      ]
     },
     "metadata": {},
     "output_type": "display_data"
    }
   ],
   "execution_count": 52
  },
  {
   "metadata": {
    "ExecuteTime": {
     "end_time": "2025-04-25T00:22:20.937053Z",
     "start_time": "2025-04-25T00:22:20.372566Z"
    }
   },
   "cell_type": "code",
   "source": "getScores(randforestA, aX_test, ay_test, bX, by) #base model",
   "id": "c855c0369f39c120",
   "outputs": [
    {
     "data": {
      "text/plain": [
       "          Accuracy  F1 Score  Precision    Recall  ROC AUC:\n",
       "Internal  0.927302  0.935333   0.924209  0.946727  0.977538\n",
       "External  0.713917  0.738031   0.647918  0.857259  0.827339"
      ],
      "text/html": [
       "<div>\n",
       "<style scoped>\n",
       "    .dataframe tbody tr th:only-of-type {\n",
       "        vertical-align: middle;\n",
       "    }\n",
       "\n",
       "    .dataframe tbody tr th {\n",
       "        vertical-align: top;\n",
       "    }\n",
       "\n",
       "    .dataframe thead th {\n",
       "        text-align: right;\n",
       "    }\n",
       "</style>\n",
       "<table border=\"1\" class=\"dataframe\">\n",
       "  <thead>\n",
       "    <tr style=\"text-align: right;\">\n",
       "      <th></th>\n",
       "      <th>Accuracy</th>\n",
       "      <th>F1 Score</th>\n",
       "      <th>Precision</th>\n",
       "      <th>Recall</th>\n",
       "      <th>ROC AUC:</th>\n",
       "    </tr>\n",
       "  </thead>\n",
       "  <tbody>\n",
       "    <tr>\n",
       "      <th>Internal</th>\n",
       "      <td>0.927302</td>\n",
       "      <td>0.935333</td>\n",
       "      <td>0.924209</td>\n",
       "      <td>0.946727</td>\n",
       "      <td>0.977538</td>\n",
       "    </tr>\n",
       "    <tr>\n",
       "      <th>External</th>\n",
       "      <td>0.713917</td>\n",
       "      <td>0.738031</td>\n",
       "      <td>0.647918</td>\n",
       "      <td>0.857259</td>\n",
       "      <td>0.827339</td>\n",
       "    </tr>\n",
       "  </tbody>\n",
       "</table>\n",
       "</div>"
      ]
     },
     "metadata": {},
     "output_type": "display_data"
    }
   ],
   "execution_count": 66
  },
  {
   "metadata": {},
   "cell_type": "markdown",
   "source": "The tuned model performs better on the unseen data in dataset A, however when generalising to dataset B the recall lowers. As such, the direct model from SciKit Learn seems to be most optimised for usage.",
   "id": "1af58f96b2911dc5"
  },
  {
   "metadata": {},
   "cell_type": "markdown",
   "source": "## XGBoost",
   "id": "851a21822b47afde"
  },
  {
   "metadata": {
    "ExecuteTime": {
     "end_time": "2025-04-25T19:51:11.329943Z",
     "start_time": "2025-04-25T19:41:58.577391Z"
    }
   },
   "cell_type": "code",
   "source": [
    "from sklearn.model_selection import cross_val_score\n",
    "\n",
    "\n",
    "def objective1(trial):\n",
    "    params = {\n",
    "        # Essential parameters\n",
    "        'learning_rate': trial.suggest_float('learning_rate', 0.01, 0.3, log=True),\n",
    "        'max_depth': trial.suggest_int('max_depth', 3, 10),\n",
    "        'subsample': trial.suggest_float('subsample', 0.6, 1.0),\n",
    "        'colsample_bytree': trial.suggest_float('colsample_bytree', 0.6, 1.0),\n",
    "\n",
    "        # Regularization parameters\n",
    "        'reg_alpha': trial.suggest_float('reg_alpha', 0, 10),\n",
    "        'reg_lambda': trial.suggest_float('reg_lambda', 0, 10),\n",
    "\n",
    "        # Tree structure parameters\n",
    "        'min_child_weight': trial.suggest_int('min_child_weight', 1, 20),\n",
    "        'gamma': trial.suggest_float('gamma', 0, 5),\n",
    "\n",
    "        # Efficiency parameters\n",
    "        'n_estimators': trial.suggest_int('n_estimators', 100, 1000, step=100),\n",
    "    }\n",
    "\n",
    "    xg = XGBClassifier(\n",
    "        **params\n",
    "    )\n",
    "    xg.fit(aX_train, ay_train)\n",
    "\n",
    "    y_pred = xg.predict(aX_test)\n",
    "    score = cross_val_score(xg, aX_train, ay_train, cv=5, scoring='f1').mean()\n",
    "    return score\n",
    "\n",
    "study1 = optuna.create_study(direction='maximize')\n",
    "study1.optimize(objective1, n_trials=100)\n",
    "print(\"Best hyperparameters found: \", study1.best_params)"
   ],
   "id": "a62d599a14793adb",
   "outputs": [
    {
     "name": "stderr",
     "output_type": "stream",
     "text": [
      "[I 2025-04-25 20:41:58,580] A new study created in memory with name: no-name-2e55c6af-ba8d-4bac-8f19-21677f5c77ae\n",
      "[I 2025-04-25 20:42:01,495] Trial 0 finished with value: 0.9326923022342204 and parameters: {'learning_rate': 0.16659161467611217, 'max_depth': 5, 'subsample': 0.6753317466706428, 'colsample_bytree': 0.9834959679727708, 'reg_alpha': 0.9613455555113903, 'reg_lambda': 9.225643327573112, 'min_child_weight': 8, 'gamma': 2.790107450351052, 'n_estimators': 800}. Best is trial 0 with value: 0.9326923022342204.\n",
      "[I 2025-04-25 20:42:05,524] Trial 1 finished with value: 0.9291879779063386 and parameters: {'learning_rate': 0.06377670172507884, 'max_depth': 5, 'subsample': 0.9659763228394429, 'colsample_bytree': 0.6495072097723513, 'reg_alpha': 3.9096667867048085, 'reg_lambda': 4.681521716392835, 'min_child_weight': 8, 'gamma': 2.735325016436767, 'n_estimators': 1000}. Best is trial 0 with value: 0.9326923022342204.\n",
      "[I 2025-04-25 20:42:12,365] Trial 2 finished with value: 0.9299688348015056 and parameters: {'learning_rate': 0.013156060943947182, 'max_depth': 6, 'subsample': 0.7573382558225502, 'colsample_bytree': 0.6744161983393485, 'reg_alpha': 4.154227845065947, 'reg_lambda': 0.07991665759706446, 'min_child_weight': 3, 'gamma': 3.6777625080505825, 'n_estimators': 1000}. Best is trial 0 with value: 0.9326923022342204.\n",
      "[I 2025-04-25 20:42:23,219] Trial 3 finished with value: 0.9336785473584216 and parameters: {'learning_rate': 0.023650166866989245, 'max_depth': 9, 'subsample': 0.66654152887962, 'colsample_bytree': 0.7669875126098094, 'reg_alpha': 0.3887566897070249, 'reg_lambda': 6.872594879235404, 'min_child_weight': 18, 'gamma': 1.3303827989758492, 'n_estimators': 1000}. Best is trial 3 with value: 0.9336785473584216.\n",
      "[I 2025-04-25 20:42:27,010] Trial 4 finished with value: 0.9298596488017701 and parameters: {'learning_rate': 0.02073817860370381, 'max_depth': 7, 'subsample': 0.8298287070099752, 'colsample_bytree': 0.7479589254517145, 'reg_alpha': 3.8979203380001914, 'reg_lambda': 3.2596845953027556, 'min_child_weight': 11, 'gamma': 3.0425005453442693, 'n_estimators': 400}. Best is trial 3 with value: 0.9336785473584216.\n",
      "[I 2025-04-25 20:42:34,309] Trial 5 finished with value: 0.9307614457094608 and parameters: {'learning_rate': 0.01648323298283502, 'max_depth': 8, 'subsample': 0.7999465384997533, 'colsample_bytree': 0.7855160579122984, 'reg_alpha': 8.08467886273974, 'reg_lambda': 2.1252477025303076, 'min_child_weight': 14, 'gamma': 1.2462591956167195, 'n_estimators': 900}. Best is trial 3 with value: 0.9336785473584216.\n",
      "[I 2025-04-25 20:42:36,708] Trial 6 finished with value: 0.9263661059875259 and parameters: {'learning_rate': 0.019913118734547815, 'max_depth': 9, 'subsample': 0.8689485106828354, 'colsample_bytree': 0.9612942290122262, 'reg_alpha': 6.575887458171614, 'reg_lambda': 0.7463729226450522, 'min_child_weight': 15, 'gamma': 2.648889406356653, 'n_estimators': 200}. Best is trial 3 with value: 0.9336785473584216.\n",
      "[I 2025-04-25 20:42:44,187] Trial 7 finished with value: 0.9299797953458212 and parameters: {'learning_rate': 0.013524523792461988, 'max_depth': 6, 'subsample': 0.6062822358204832, 'colsample_bytree': 0.8816191236754175, 'reg_alpha': 0.5004493086642259, 'reg_lambda': 8.99964440483479, 'min_child_weight': 9, 'gamma': 3.181709149341312, 'n_estimators': 1000}. Best is trial 3 with value: 0.9336785473584216.\n",
      "[I 2025-04-25 20:42:47,817] Trial 8 finished with value: 0.9320419809940471 and parameters: {'learning_rate': 0.10466493466469445, 'max_depth': 7, 'subsample': 0.6584942108226508, 'colsample_bytree': 0.8092071356517951, 'reg_alpha': 1.996858000446976, 'reg_lambda': 3.239352136075062, 'min_child_weight': 10, 'gamma': 2.9681621348298135, 'n_estimators': 800}. Best is trial 3 with value: 0.9336785473584216.\n",
      "[I 2025-04-25 20:42:49,766] Trial 9 finished with value: 0.9320462704183484 and parameters: {'learning_rate': 0.24225276034607912, 'max_depth': 3, 'subsample': 0.7004045777960838, 'colsample_bytree': 0.800274158753222, 'reg_alpha': 6.226301393717973, 'reg_lambda': 8.716926993173429, 'min_child_weight': 1, 'gamma': 0.033792342065951386, 'n_estimators': 300}. Best is trial 3 with value: 0.9336785473584216.\n",
      "[I 2025-04-25 20:42:53,129] Trial 10 finished with value: 0.9261822223331795 and parameters: {'learning_rate': 0.03700644444586699, 'max_depth': 10, 'subsample': 0.9996491790036652, 'colsample_bytree': 0.7123099157957784, 'reg_alpha': 9.523902427376825, 'reg_lambda': 6.627491947375285, 'min_child_weight': 20, 'gamma': 4.631753535045814, 'n_estimators': 500}. Best is trial 3 with value: 0.9336785473584216.\n",
      "[I 2025-04-25 20:42:56,824] Trial 11 finished with value: 0.932364988471968 and parameters: {'learning_rate': 0.24041453472493043, 'max_depth': 3, 'subsample': 0.701426802259812, 'colsample_bytree': 0.9988579298137967, 'reg_alpha': 0.20976135421312592, 'reg_lambda': 7.099217030675714, 'min_child_weight': 20, 'gamma': 1.6081248517285154, 'n_estimators': 700}. Best is trial 3 with value: 0.9336785473584216.\n",
      "[I 2025-04-25 20:43:00,958] Trial 12 finished with value: 0.9342474965811574 and parameters: {'learning_rate': 0.10905270214737854, 'max_depth': 5, 'subsample': 0.605386780913499, 'colsample_bytree': 0.9063476504464252, 'reg_alpha': 1.8802676101613487, 'reg_lambda': 9.947723392260372, 'min_child_weight': 5, 'gamma': 1.5856057866241762, 'n_estimators': 700}. Best is trial 12 with value: 0.9342474965811574.\n",
      "[I 2025-04-25 20:43:07,285] Trial 13 finished with value: 0.9343674046615353 and parameters: {'learning_rate': 0.03899655764835444, 'max_depth': 10, 'subsample': 0.6065978298451294, 'colsample_bytree': 0.8877108942999347, 'reg_alpha': 2.3724923057113134, 'reg_lambda': 6.968272349266248, 'min_child_weight': 5, 'gamma': 1.4205329434559122, 'n_estimators': 700}. Best is trial 13 with value: 0.9343674046615353.\n",
      "[I 2025-04-25 20:43:13,410] Trial 14 finished with value: 0.933683079178353 and parameters: {'learning_rate': 0.06503725725810372, 'max_depth': 4, 'subsample': 0.6020445260755041, 'colsample_bytree': 0.9002989363850447, 'reg_alpha': 1.9652348702783153, 'reg_lambda': 7.849517314133649, 'min_child_weight': 5, 'gamma': 0.34867362494602716, 'n_estimators': 700}. Best is trial 13 with value: 0.9343674046615353.\n",
      "[I 2025-04-25 20:43:18,116] Trial 15 finished with value: 0.9342186301445807 and parameters: {'learning_rate': 0.04050662271043093, 'max_depth': 10, 'subsample': 0.747067074880606, 'colsample_bytree': 0.8717540833050621, 'reg_alpha': 2.49320313560649, 'reg_lambda': 4.9066183547573665, 'min_child_weight': 5, 'gamma': 1.8600434063064346, 'n_estimators': 600}. Best is trial 13 with value: 0.9343674046615353.\n",
      "[I 2025-04-25 20:43:21,972] Trial 16 finished with value: 0.9353881343969743 and parameters: {'learning_rate': 0.10127619862419636, 'max_depth': 5, 'subsample': 0.6348749913343988, 'colsample_bytree': 0.922875761764889, 'reg_alpha': 2.9643486605129796, 'reg_lambda': 9.87248281950552, 'min_child_weight': 5, 'gamma': 0.6403165530065091, 'n_estimators': 500}. Best is trial 16 with value: 0.9353881343969743.\n",
      "[I 2025-04-25 20:43:23,299] Trial 17 finished with value: 0.9323863357495401 and parameters: {'learning_rate': 0.09547178922660476, 'max_depth': 8, 'subsample': 0.9101407388397766, 'colsample_bytree': 0.8417895470201981, 'reg_alpha': 5.173555888704457, 'reg_lambda': 5.8485066313330405, 'min_child_weight': 3, 'gamma': 0.7070968978246381, 'n_estimators': 100}. Best is trial 16 with value: 0.9353881343969743.\n",
      "[I 2025-04-25 20:43:26,493] Trial 18 finished with value: 0.9291707535214894 and parameters: {'learning_rate': 0.0340274501786577, 'max_depth': 4, 'subsample': 0.7507218133359382, 'colsample_bytree': 0.9254152673442834, 'reg_alpha': 3.3802644301070868, 'reg_lambda': 8.311542355349472, 'min_child_weight': 1, 'gamma': 0.8058795936556447, 'n_estimators': 500}. Best is trial 16 with value: 0.9353881343969743.\n",
      "[I 2025-04-25 20:43:31,660] Trial 19 finished with value: 0.9299356384987979 and parameters: {'learning_rate': 0.04887529774565461, 'max_depth': 8, 'subsample': 0.6340317873713968, 'colsample_bytree': 0.6007201664503745, 'reg_alpha': 5.28300857481322, 'reg_lambda': 9.830750569124607, 'min_child_weight': 7, 'gamma': 1.9336534709207696, 'n_estimators': 400}. Best is trial 16 with value: 0.9353881343969743.\n",
      "[I 2025-04-25 20:43:35,101] Trial 20 finished with value: 0.9314068170189905 and parameters: {'learning_rate': 0.15683436642542453, 'max_depth': 4, 'subsample': 0.7223702832186619, 'colsample_bytree': 0.9505590312471839, 'reg_alpha': 2.9613101089331457, 'reg_lambda': 5.895365521320667, 'min_child_weight': 12, 'gamma': 2.137992203008843, 'n_estimators': 600}. Best is trial 16 with value: 0.9353881343969743.\n",
      "[I 2025-04-25 20:43:39,754] Trial 21 finished with value: 0.9357254808935561 and parameters: {'learning_rate': 0.10371217500005482, 'max_depth': 5, 'subsample': 0.6396207523746008, 'colsample_bytree': 0.8397232229597856, 'reg_alpha': 1.4640041468052176, 'reg_lambda': 9.774586156178179, 'min_child_weight': 6, 'gamma': 1.0698945785954823, 'n_estimators': 700}. Best is trial 21 with value: 0.9357254808935561.\n",
      "[I 2025-04-25 20:43:45,804] Trial 22 finished with value: 0.9372411750105943 and parameters: {'learning_rate': 0.07953386730441842, 'max_depth': 6, 'subsample': 0.6463123899257512, 'colsample_bytree': 0.8323061053002583, 'reg_alpha': 1.551502168786385, 'reg_lambda': 8.31661939112469, 'min_child_weight': 6, 'gamma': 0.7319778847068418, 'n_estimators': 800}. Best is trial 22 with value: 0.9372411750105943.\n",
      "[I 2025-04-25 20:43:52,143] Trial 23 finished with value: 0.9369477511044375 and parameters: {'learning_rate': 0.07153079838268318, 'max_depth': 6, 'subsample': 0.6526183122262066, 'colsample_bytree': 0.8416905560964641, 'reg_alpha': 1.132548688219181, 'reg_lambda': 8.03294722216364, 'min_child_weight': 7, 'gamma': 0.7396509395212294, 'n_estimators': 800}. Best is trial 22 with value: 0.9372411750105943.\n",
      "[I 2025-04-25 20:43:57,176] Trial 24 finished with value: 0.9362677925983901 and parameters: {'learning_rate': 0.07757436818985086, 'max_depth': 6, 'subsample': 0.7884549746296245, 'colsample_bytree': 0.8290154021909889, 'reg_alpha': 1.3502641273982763, 'reg_lambda': 7.804364789070826, 'min_child_weight': 7, 'gamma': 1.0413315788526933, 'n_estimators': 800}. Best is trial 22 with value: 0.9372411750105943.\n",
      "[I 2025-04-25 20:44:04,728] Trial 25 finished with value: 0.9387522097953387 and parameters: {'learning_rate': 0.06698579085545549, 'max_depth': 6, 'subsample': 0.8246908213082849, 'colsample_bytree': 0.8442865772729525, 'reg_alpha': 0.8915458125484212, 'reg_lambda': 7.807948798528249, 'min_child_weight': 3, 'gamma': 0.23881635320204608, 'n_estimators': 900}. Best is trial 25 with value: 0.9387522097953387.\n",
      "[I 2025-04-25 20:44:13,274] Trial 26 finished with value: 0.9391487427237145 and parameters: {'learning_rate': 0.05130213263974789, 'max_depth': 7, 'subsample': 0.8369100862321792, 'colsample_bytree': 0.7372805112215807, 'reg_alpha': 0.026726916131469824, 'reg_lambda': 7.9328032642564335, 'min_child_weight': 3, 'gamma': 0.056848725346986984, 'n_estimators': 900}. Best is trial 26 with value: 0.9391487427237145.\n",
      "[I 2025-04-25 20:44:23,256] Trial 27 finished with value: 0.9389729020921361 and parameters: {'learning_rate': 0.15143735067115316, 'max_depth': 7, 'subsample': 0.8560041802645874, 'colsample_bytree': 0.7427518769297913, 'reg_alpha': 0.06316479881456649, 'reg_lambda': 6.100226493030881, 'min_child_weight': 3, 'gamma': 0.04357667285197381, 'n_estimators': 900}. Best is trial 26 with value: 0.9391487427237145.\n",
      "[I 2025-04-25 20:44:32,264] Trial 28 finished with value: 0.9388687368649379 and parameters: {'learning_rate': 0.16911945041645723, 'max_depth': 7, 'subsample': 0.8573165446480544, 'colsample_bytree': 0.7266688137025952, 'reg_alpha': 0.016576984470946562, 'reg_lambda': 5.880070823826642, 'min_child_weight': 3, 'gamma': 0.2597735873014282, 'n_estimators': 900}. Best is trial 26 with value: 0.9391487427237145.\n",
      "[I 2025-04-25 20:44:41,656] Trial 29 finished with value: 0.9392251291077411 and parameters: {'learning_rate': 0.1586500477800113, 'max_depth': 7, 'subsample': 0.8946550984986819, 'colsample_bytree': 0.7358689816324911, 'reg_alpha': 0.44820352948359377, 'reg_lambda': 4.100884716712806, 'min_child_weight': 2, 'gamma': 0.03486477271106743, 'n_estimators': 900}. Best is trial 29 with value: 0.9392251291077411.\n",
      "[I 2025-04-25 20:44:51,387] Trial 30 finished with value: 0.9392726246841251 and parameters: {'learning_rate': 0.1649496761780477, 'max_depth': 8, 'subsample': 0.91306595962406, 'colsample_bytree': 0.6900480196792796, 'reg_alpha': 0.9717487230339885, 'reg_lambda': 4.009740388796148, 'min_child_weight': 1, 'gamma': 0.038376341904492836, 'n_estimators': 900}. Best is trial 30 with value: 0.9392726246841251.\n",
      "[I 2025-04-25 20:45:01,676] Trial 31 finished with value: 0.9385950562725984 and parameters: {'learning_rate': 0.17047210313026637, 'max_depth': 8, 'subsample': 0.9132035135547145, 'colsample_bytree': 0.6887417484340812, 'reg_alpha': 0.7665595434686523, 'reg_lambda': 4.07086862660393, 'min_child_weight': 1, 'gamma': 0.025248259399727534, 'n_estimators': 900}. Best is trial 30 with value: 0.9392726246841251.\n",
      "[I 2025-04-25 20:45:07,633] Trial 32 finished with value: 0.9408533101203453 and parameters: {'learning_rate': 0.13291484016415933, 'max_depth': 7, 'subsample': 0.9112140881002768, 'colsample_bytree': 0.7372877262802932, 'reg_alpha': 0.05359567621966728, 'reg_lambda': 3.8899873714848487, 'min_child_weight': 1, 'gamma': 0.35715295389157653, 'n_estimators': 900}. Best is trial 32 with value: 0.9408533101203453.\n",
      "[I 2025-04-25 20:45:12,706] Trial 33 finished with value: 0.9400725362245478 and parameters: {'learning_rate': 0.29626195513241865, 'max_depth': 9, 'subsample': 0.9245404172587424, 'colsample_bytree': 0.6551848260373707, 'reg_alpha': 0.900773557900032, 'reg_lambda': 4.195142552206026, 'min_child_weight': 2, 'gamma': 0.3597200240155134, 'n_estimators': 1000}. Best is trial 32 with value: 0.9408533101203453.\n",
      "[I 2025-04-25 20:45:17,254] Trial 34 finished with value: 0.9382027598198462 and parameters: {'learning_rate': 0.28434936711668374, 'max_depth': 9, 'subsample': 0.9297436365629572, 'colsample_bytree': 0.6393671910216615, 'reg_alpha': 1.1840194868326313, 'reg_lambda': 4.139407542481171, 'min_child_weight': 2, 'gamma': 0.5817436972180421, 'n_estimators': 1000}. Best is trial 32 with value: 0.9408533101203453.\n",
      "[I 2025-04-25 20:45:22,285] Trial 35 finished with value: 0.9406169911063433 and parameters: {'learning_rate': 0.20481183979699652, 'max_depth': 9, 'subsample': 0.9513577828945737, 'colsample_bytree': 0.6561673894652106, 'reg_alpha': 0.9150751389507492, 'reg_lambda': 2.876483847310762, 'min_child_weight': 2, 'gamma': 0.3517718465834223, 'n_estimators': 1000}. Best is trial 32 with value: 0.9408533101203453.\n",
      "[I 2025-04-25 20:45:27,066] Trial 36 finished with value: 0.937663647598878 and parameters: {'learning_rate': 0.20956148615570072, 'max_depth': 9, 'subsample': 0.95243297530915, 'colsample_bytree': 0.6519656471462216, 'reg_alpha': 4.2888055592097185, 'reg_lambda': 2.3889305001162144, 'min_child_weight': 1, 'gamma': 0.4308238150109345, 'n_estimators': 1000}. Best is trial 32 with value: 0.9408533101203453.\n",
      "[I 2025-04-25 20:45:31,160] Trial 37 finished with value: 0.9351022215345152 and parameters: {'learning_rate': 0.12964699118497153, 'max_depth': 9, 'subsample': 0.9904233759363024, 'colsample_bytree': 0.6832776061965301, 'reg_alpha': 2.550155364732734, 'reg_lambda': 3.004352461357425, 'min_child_weight': 4, 'gamma': 1.0449671267413416, 'n_estimators': 1000}. Best is trial 32 with value: 0.9408533101203453.\n",
      "[I 2025-04-25 20:45:35,360] Trial 38 finished with value: 0.932112857404271 and parameters: {'learning_rate': 0.2928262948447963, 'max_depth': 8, 'subsample': 0.960888002483826, 'colsample_bytree': 0.6183102837731593, 'reg_alpha': 0.7871872895836718, 'reg_lambda': 1.5187021780966274, 'min_child_weight': 2, 'gamma': 4.071824771953891, 'n_estimators': 1000}. Best is trial 32 with value: 0.9408533101203453.\n",
      "[I 2025-04-25 20:45:40,747] Trial 39 finished with value: 0.9363058856542137 and parameters: {'learning_rate': 0.2151576172154457, 'max_depth': 9, 'subsample': 0.8866031534216624, 'colsample_bytree': 0.7057702061240924, 'reg_alpha': 3.391957688665161, 'reg_lambda': 2.660517059147244, 'min_child_weight': 16, 'gamma': 0.4491678571046304, 'n_estimators': 1000}. Best is trial 32 with value: 0.9408533101203453.\n",
      "[I 2025-04-25 20:45:44,360] Trial 40 finished with value: 0.9306784203108565 and parameters: {'learning_rate': 0.12969326385664773, 'max_depth': 8, 'subsample': 0.9393862421763709, 'colsample_bytree': 0.6609040068738933, 'reg_alpha': 7.7581024916271275, 'reg_lambda': 3.6423789127579456, 'min_child_weight': 4, 'gamma': 2.41791358223609, 'n_estimators': 800}. Best is trial 32 with value: 0.9408533101203453.\n",
      "[I 2025-04-25 20:45:50,861] Trial 41 finished with value: 0.9394265068784851 and parameters: {'learning_rate': 0.20019216719813546, 'max_depth': 8, 'subsample': 0.8937377546439289, 'colsample_bytree': 0.7790435077400069, 'reg_alpha': 0.5619423322541296, 'reg_lambda': 4.57806549374916, 'min_child_weight': 2, 'gamma': 0.3199207563452308, 'n_estimators': 900}. Best is trial 32 with value: 0.9408533101203453.\n",
      "[I 2025-04-25 20:45:56,967] Trial 42 finished with value: 0.9374699504591308 and parameters: {'learning_rate': 0.19655107874531558, 'max_depth': 9, 'subsample': 0.9734811690768805, 'colsample_bytree': 0.7672973358230573, 'reg_alpha': 0.7032648932864803, 'reg_lambda': 5.291478823285981, 'min_child_weight': 2, 'gamma': 0.881386545915373, 'n_estimators': 900}. Best is trial 32 with value: 0.9408533101203453.\n",
      "[I 2025-04-25 20:46:02,053] Trial 43 finished with value: 0.9390038369387362 and parameters: {'learning_rate': 0.2521203580402401, 'max_depth': 8, 'subsample': 0.9236202927220214, 'colsample_bytree': 0.7634328318844268, 'reg_alpha': 1.523355895170785, 'reg_lambda': 4.523094642498777, 'min_child_weight': 1, 'gamma': 0.41134832837503954, 'n_estimators': 1000}. Best is trial 32 with value: 0.9408533101203453.\n",
      "[I 2025-04-25 20:46:06,099] Trial 44 finished with value: 0.9362537576314235 and parameters: {'learning_rate': 0.19469732212181887, 'max_depth': 10, 'subsample': 0.8998455474866863, 'colsample_bytree': 0.6696239110506114, 'reg_alpha': 1.9416889204147005, 'reg_lambda': 1.5551750619555098, 'min_child_weight': 4, 'gamma': 1.3112420768383442, 'n_estimators': 900}. Best is trial 32 with value: 0.9408533101203453.\n",
      "[I 2025-04-25 20:46:13,747] Trial 45 finished with value: 0.940231551170258 and parameters: {'learning_rate': 0.124271348169849, 'max_depth': 8, 'subsample': 0.869826670159649, 'colsample_bytree': 0.63480250643322, 'reg_alpha': 0.4674479635843683, 'reg_lambda': 3.4060077237358244, 'min_child_weight': 2, 'gamma': 0.29232163135884215, 'n_estimators': 1000}. Best is trial 32 with value: 0.9408533101203453.\n",
      "[I 2025-04-25 20:46:18,418] Trial 46 finished with value: 0.9380734212358395 and parameters: {'learning_rate': 0.13671972509288924, 'max_depth': 9, 'subsample': 0.874065309615199, 'colsample_bytree': 0.6378811213835301, 'reg_alpha': 0.4402730025601429, 'reg_lambda': 3.5815169456857703, 'min_child_weight': 9, 'gamma': 1.009784022189731, 'n_estimators': 1000}. Best is trial 32 with value: 0.9408533101203453.\n",
      "[I 2025-04-25 20:46:22,071] Trial 47 finished with value: 0.9326746321003055 and parameters: {'learning_rate': 0.2508087909800632, 'max_depth': 10, 'subsample': 0.944541838074418, 'colsample_bytree': 0.621347651459638, 'reg_alpha': 1.7338473581488978, 'reg_lambda': 5.2383282746620115, 'min_child_weight': 2, 'gamma': 3.709795978468986, 'n_estimators': 1000}. Best is trial 32 with value: 0.9408533101203453.\n",
      "[I 2025-04-25 20:46:25,742] Trial 48 finished with value: 0.9368035686729386 and parameters: {'learning_rate': 0.12354974248331793, 'max_depth': 7, 'subsample': 0.973135400933526, 'colsample_bytree': 0.7821780416460531, 'reg_alpha': 2.24140415180461, 'reg_lambda': 1.839605913621631, 'min_child_weight': 4, 'gamma': 0.5099104669929775, 'n_estimators': 800}. Best is trial 32 with value: 0.9408533101203453.\n",
      "[I 2025-04-25 20:46:29,751] Trial 49 finished with value: 0.926839603704626 and parameters: {'learning_rate': 0.08783858996185787, 'max_depth': 9, 'subsample': 0.8808102079728046, 'colsample_bytree': 0.7121462474555856, 'reg_alpha': 9.428971112539916, 'reg_lambda': 0.9202236544777707, 'min_child_weight': 12, 'gamma': 4.969072651671493, 'n_estimators': 1000}. Best is trial 32 with value: 0.9408533101203453.\n",
      "[I 2025-04-25 20:46:37,063] Trial 50 finished with value: 0.9376857828372211 and parameters: {'learning_rate': 0.1937786138942904, 'max_depth': 8, 'subsample': 0.8095928577708169, 'colsample_bytree': 0.6018320966189492, 'reg_alpha': 0.5123311649975618, 'reg_lambda': 2.8686126461950052, 'min_child_weight': 2, 'gamma': 0.25546035523445987, 'n_estimators': 900}. Best is trial 32 with value: 0.9408533101203453.\n",
      "[I 2025-04-25 20:46:42,986] Trial 51 finished with value: 0.9395920404566194 and parameters: {'learning_rate': 0.22925830888704585, 'max_depth': 8, 'subsample': 0.9210617839558146, 'colsample_bytree': 0.6983027185191064, 'reg_alpha': 0.9787390992305224, 'reg_lambda': 3.5879253585197217, 'min_child_weight': 1, 'gamma': 0.24248032913336956, 'n_estimators': 1000}. Best is trial 32 with value: 0.9408533101203453.\n",
      "[I 2025-04-25 20:46:48,254] Trial 52 finished with value: 0.9388670745598671 and parameters: {'learning_rate': 0.29668380800644323, 'max_depth': 8, 'subsample': 0.9338201227493017, 'colsample_bytree': 0.6975215668692996, 'reg_alpha': 1.1372094131591979, 'reg_lambda': 4.702855053131778, 'min_child_weight': 1, 'gamma': 0.2780272773375959, 'n_estimators': 1000}. Best is trial 32 with value: 0.9408533101203453.\n",
      "[I 2025-04-25 20:46:54,315] Trial 53 finished with value: 0.9394961517049845 and parameters: {'learning_rate': 0.22871325270910542, 'max_depth': 9, 'subsample': 0.847593720769191, 'colsample_bytree': 0.6707076219748981, 'reg_alpha': 0.3765596657976513, 'reg_lambda': 3.4566332836918967, 'min_child_weight': 4, 'gamma': 0.562192858385835, 'n_estimators': 1000}. Best is trial 32 with value: 0.9408533101203453.\n",
      "[I 2025-04-25 20:47:06,470] Trial 54 finished with value: 0.937242427945016 and parameters: {'learning_rate': 0.0106228932212449, 'max_depth': 9, 'subsample': 0.8545154480034867, 'colsample_bytree': 0.6733177622219402, 'reg_alpha': 0.31134362446367814, 'reg_lambda': 3.7360239393662127, 'min_child_weight': 4, 'gamma': 0.5556185153663198, 'n_estimators': 1000}. Best is trial 32 with value: 0.9408533101203453.\n",
      "[I 2025-04-25 20:47:10,765] Trial 55 finished with value: 0.9366210792783267 and parameters: {'learning_rate': 0.23415678178136723, 'max_depth': 10, 'subsample': 0.8348919643676791, 'colsample_bytree': 0.6475876851889673, 'reg_alpha': 1.2046841371967416, 'reg_lambda': 3.2546365014996934, 'min_child_weight': 3, 'gamma': 1.5661176604709908, 'n_estimators': 1000}. Best is trial 32 with value: 0.9408533101203453.\n",
      "[I 2025-04-25 20:47:14,835] Trial 56 finished with value: 0.9369380746949776 and parameters: {'learning_rate': 0.26915609467720014, 'max_depth': 9, 'subsample': 0.9848430782711013, 'colsample_bytree': 0.6251421633639468, 'reg_alpha': 2.7929447540131997, 'reg_lambda': 2.2592936608258443, 'min_child_weight': 1, 'gamma': 0.8341453116895187, 'n_estimators': 1000}. Best is trial 32 with value: 0.9408533101203453.\n",
      "[I 2025-04-25 20:47:15,875] Trial 57 finished with value: 0.9311847073222642 and parameters: {'learning_rate': 0.11625432673886034, 'max_depth': 7, 'subsample': 0.8673354440186813, 'colsample_bytree': 0.7202194566344079, 'reg_alpha': 5.792202229639037, 'reg_lambda': 3.4441806567702855, 'min_child_weight': 6, 'gamma': 1.1743295060995564, 'n_estimators': 100}. Best is trial 32 with value: 0.9408533101203453.\n",
      "[I 2025-04-25 20:47:17,925] Trial 58 finished with value: 0.9362457752653459 and parameters: {'learning_rate': 0.18200927600713587, 'max_depth': 10, 'subsample': 0.9090937560967765, 'colsample_bytree': 0.6650092030860575, 'reg_alpha': 4.458049451543369, 'reg_lambda': 2.7152596805771436, 'min_child_weight': 2, 'gamma': 0.6287191615636084, 'n_estimators': 300}. Best is trial 32 with value: 0.9408533101203453.\n",
      "[I 2025-04-25 20:47:22,405] Trial 59 finished with value: 0.9381693209689818 and parameters: {'learning_rate': 0.14364910587417173, 'max_depth': 8, 'subsample': 0.776723496242243, 'colsample_bytree': 0.6545989220705745, 'reg_alpha': 2.0458899942329065, 'reg_lambda': 3.1680987824361084, 'min_child_weight': 3, 'gamma': 0.9079248790364651, 'n_estimators': 800}. Best is trial 32 with value: 0.9408533101203453.\n",
      "[I 2025-04-25 20:47:28,587] Trial 60 finished with value: 0.9355093866746316 and parameters: {'learning_rate': 0.02725749983989432, 'max_depth': 9, 'subsample': 0.9550164564873052, 'colsample_bytree': 0.6756234211788514, 'reg_alpha': 1.5488870171054128, 'reg_lambda': 5.207342035576104, 'min_child_weight': 5, 'gamma': 1.4121019919311488, 'n_estimators': 900}. Best is trial 32 with value: 0.9408533101203453.\n",
      "[I 2025-04-25 20:47:34,225] Trial 61 finished with value: 0.939655169393912 and parameters: {'learning_rate': 0.22508269808377634, 'max_depth': 8, 'subsample': 0.8944988764480608, 'colsample_bytree': 0.7923993894616513, 'reg_alpha': 0.608496400217666, 'reg_lambda': 4.4628679665206406, 'min_child_weight': 2, 'gamma': 0.3341415803635873, 'n_estimators': 900}. Best is trial 32 with value: 0.9408533101203453.\n",
      "[I 2025-04-25 20:47:40,434] Trial 62 finished with value: 0.9392914212767843 and parameters: {'learning_rate': 0.22642213348660173, 'max_depth': 8, 'subsample': 0.9257327435568251, 'colsample_bytree': 0.7524314724722211, 'reg_alpha': 0.8675086764751686, 'reg_lambda': 4.399234128874631, 'min_child_weight': 1, 'gamma': 0.2236917881474763, 'n_estimators': 1000}. Best is trial 32 with value: 0.9408533101203453.\n",
      "[I 2025-04-25 20:47:48,119] Trial 63 finished with value: 0.9372835936548137 and parameters: {'learning_rate': 0.2565572643528152, 'max_depth': 7, 'subsample': 0.847518792069258, 'colsample_bytree': 0.8152716187370863, 'reg_alpha': 0.29938903673871453, 'reg_lambda': 3.822578365514002, 'min_child_weight': 3, 'gamma': 0.18623968741209931, 'n_estimators': 900}. Best is trial 32 with value: 0.9408533101203453.\n",
      "[I 2025-04-25 20:47:53,109] Trial 64 finished with value: 0.9387908686283455 and parameters: {'learning_rate': 0.22588578757951777, 'max_depth': 8, 'subsample': 0.8159526510669106, 'colsample_bytree': 0.6998355206755434, 'reg_alpha': 0.050659214753435655, 'reg_lambda': 4.959718548907173, 'min_child_weight': 2, 'gamma': 0.6744310777588625, 'n_estimators': 800}. Best is trial 32 with value: 0.9408533101203453.\n",
      "[I 2025-04-25 20:47:57,691] Trial 65 finished with value: 0.9354779328402245 and parameters: {'learning_rate': 0.27361058698398505, 'max_depth': 9, 'subsample': 0.8694942820880386, 'colsample_bytree': 0.862836506642424, 'reg_alpha': 7.2607883418286985, 'reg_lambda': 4.252578386634472, 'min_child_weight': 4, 'gamma': 0.46175646933149056, 'n_estimators': 900}. Best is trial 32 with value: 0.9408533101203453.\n",
      "[I 2025-04-25 20:48:07,082] Trial 66 finished with value: 0.9367526391621389 and parameters: {'learning_rate': 0.17774802105849832, 'max_depth': 7, 'subsample': 0.9012389438178989, 'colsample_bytree': 0.6327755181557585, 'reg_alpha': 0.6916799922442673, 'reg_lambda': 3.406196718619853, 'min_child_weight': 18, 'gamma': 0.16800434641581277, 'n_estimators': 1000}. Best is trial 32 with value: 0.9408533101203453.\n",
      "[I 2025-04-25 20:48:11,508] Trial 67 finished with value: 0.9391015610254655 and parameters: {'learning_rate': 0.056750637466485704, 'max_depth': 9, 'subsample': 0.9214031866454195, 'colsample_bytree': 0.8017900512261236, 'reg_alpha': 1.3274285709100329, 'reg_lambda': 2.4755772988283637, 'min_child_weight': 1, 'gamma': 0.7490209307378275, 'n_estimators': 600}. Best is trial 32 with value: 0.9408533101203453.\n",
      "[I 2025-04-25 20:48:15,301] Trial 68 finished with value: 0.9330888058136304 and parameters: {'learning_rate': 0.15082279529548354, 'max_depth': 8, 'subsample': 0.8837808335424412, 'colsample_bytree': 0.7263675580333067, 'reg_alpha': 1.7870218130723923, 'reg_lambda': 2.0105802556109262, 'min_child_weight': 3, 'gamma': 3.230303469816807, 'n_estimators': 1000}. Best is trial 32 with value: 0.9408533101203453.\n",
      "[I 2025-04-25 20:48:19,625] Trial 69 finished with value: 0.9385582098460125 and parameters: {'learning_rate': 0.24060121661449205, 'max_depth': 9, 'subsample': 0.9474682577431042, 'colsample_bytree': 0.6146494271863426, 'reg_alpha': 0.9717277851500766, 'reg_lambda': 5.628731069534737, 'min_child_weight': 5, 'gamma': 0.3984414688807963, 'n_estimators': 900}. Best is trial 32 with value: 0.9408533101203453.\n",
      "[I 2025-04-25 20:48:21,871] Trial 70 finished with value: 0.9378327116816149 and parameters: {'learning_rate': 0.21186112623321943, 'max_depth': 7, 'subsample': 0.8413548440584743, 'colsample_bytree': 0.6835244811903372, 'reg_alpha': 0.24585474743084673, 'reg_lambda': 3.9089385242304733, 'min_child_weight': 2, 'gamma': 1.165786525002793, 'n_estimators': 400}. Best is trial 32 with value: 0.9408533101203453.\n",
      "[I 2025-04-25 20:48:27,538] Trial 71 finished with value: 0.9398920153163355 and parameters: {'learning_rate': 0.1864725285583375, 'max_depth': 8, 'subsample': 0.8893913926605251, 'colsample_bytree': 0.7859115644616168, 'reg_alpha': 0.5587578778287635, 'reg_lambda': 4.723233370899331, 'min_child_weight': 2, 'gamma': 0.3797079842515174, 'n_estimators': 900}. Best is trial 32 with value: 0.9408533101203453.\n",
      "[I 2025-04-25 20:48:32,725] Trial 72 finished with value: 0.9397314166839656 and parameters: {'learning_rate': 0.18632535153097896, 'max_depth': 8, 'subsample': 0.9029247531225932, 'colsample_bytree': 0.8210784670180861, 'reg_alpha': 0.580988408795861, 'reg_lambda': 4.904638428828764, 'min_child_weight': 3, 'gamma': 0.572762940994268, 'n_estimators': 1000}. Best is trial 32 with value: 0.9408533101203453.\n",
      "[I 2025-04-25 20:48:40,564] Trial 73 finished with value: 0.939733037423712 and parameters: {'learning_rate': 0.17754020847393603, 'max_depth': 8, 'subsample': 0.9139707983758254, 'colsample_bytree': 0.8242141739645066, 'reg_alpha': 0.9918302008574279, 'reg_lambda': 6.511066023421293, 'min_child_weight': 1, 'gamma': 0.1728575310585638, 'n_estimators': 900}. Best is trial 32 with value: 0.9408533101203453.\n",
      "[I 2025-04-25 20:48:48,373] Trial 74 finished with value: 0.9395979927848849 and parameters: {'learning_rate': 0.11334852071577607, 'max_depth': 7, 'subsample': 0.9068777951291783, 'colsample_bytree': 0.7971703584891322, 'reg_alpha': 0.5667062622478387, 'reg_lambda': 5.483142034139193, 'min_child_weight': 3, 'gamma': 0.1487562789262134, 'n_estimators': 800}. Best is trial 32 with value: 0.9408533101203453.\n",
      "[I 2025-04-25 20:48:52,925] Trial 75 finished with value: 0.9387951163215993 and parameters: {'learning_rate': 0.1834252303928641, 'max_depth': 8, 'subsample': 0.9361645972885082, 'colsample_bytree': 0.8217811592687969, 'reg_alpha': 1.4072967942372203, 'reg_lambda': 6.450093457747171, 'min_child_weight': 2, 'gamma': 0.41417072282633904, 'n_estimators': 800}. Best is trial 32 with value: 0.9408533101203453.\n",
      "[I 2025-04-25 20:48:57,796] Trial 76 finished with value: 0.9400281405293898 and parameters: {'learning_rate': 0.15976395127826074, 'max_depth': 8, 'subsample': 0.8949933381049082, 'colsample_bytree': 0.8665564461185536, 'reg_alpha': 0.02837463890359504, 'reg_lambda': 4.822686239890634, 'min_child_weight': 1, 'gamma': 0.9044828824968896, 'n_estimators': 900}. Best is trial 32 with value: 0.9408533101203453.\n",
      "[I 2025-04-25 20:49:01,330] Trial 77 finished with value: 0.9366394276054036 and parameters: {'learning_rate': 0.09941374694178552, 'max_depth': 6, 'subsample': 0.9649926036157916, 'colsample_bytree': 0.8573497024381479, 'reg_alpha': 0.039469845354424105, 'reg_lambda': 4.716987352444011, 'min_child_weight': 1, 'gamma': 0.8711267220020362, 'n_estimators': 700}. Best is trial 32 with value: 0.9408533101203453.\n",
      "[I 2025-04-25 20:49:10,463] Trial 78 finished with value: 0.9392487532632792 and parameters: {'learning_rate': 0.14407148283824062, 'max_depth': 7, 'subsample': 0.8725503999892237, 'colsample_bytree': 0.8813089394887335, 'reg_alpha': 1.0848018082195947, 'reg_lambda': 7.462133163562904, 'min_child_weight': 1, 'gamma': 0.11351555080363335, 'n_estimators': 900}. Best is trial 32 with value: 0.9408533101203453.\n",
      "[I 2025-04-25 20:49:16,351] Trial 79 finished with value: 0.9377722521433917 and parameters: {'learning_rate': 0.16583933756859287, 'max_depth': 8, 'subsample': 0.8860257775574206, 'colsample_bytree': 0.8099063974608668, 'reg_alpha': 2.250796516035552, 'reg_lambda': 6.2531985627047275, 'min_child_weight': 3, 'gamma': 0.6282644020660557, 'n_estimators': 900}. Best is trial 32 with value: 0.9408533101203453.\n",
      "[I 2025-04-25 20:49:20,581] Trial 80 finished with value: 0.9356668682430909 and parameters: {'learning_rate': 0.12084759096956468, 'max_depth': 8, 'subsample': 0.9161344051378892, 'colsample_bytree': 0.8586214720091822, 'reg_alpha': 1.6625279666411636, 'reg_lambda': 5.039853830792747, 'min_child_weight': 13, 'gamma': 0.9817664144759308, 'n_estimators': 900}. Best is trial 32 with value: 0.9408533101203453.\n",
      "[I 2025-04-25 20:49:30,999] Trial 81 finished with value: 0.9387880296521562 and parameters: {'learning_rate': 0.13589873993874485, 'max_depth': 8, 'subsample': 0.8904072672391824, 'colsample_bytree': 0.8249744860745029, 'reg_alpha': 0.6981691891008066, 'reg_lambda': 4.244750997336676, 'min_child_weight': 2, 'gamma': 0.007139758205801761, 'n_estimators': 900}. Best is trial 32 with value: 0.9408533101203453.\n",
      "[I 2025-04-25 20:49:37,344] Trial 82 finished with value: 0.9389620317329765 and parameters: {'learning_rate': 0.15971551467259457, 'max_depth': 8, 'subsample': 0.9048124302147315, 'colsample_bytree': 0.9093992013326352, 'reg_alpha': 0.33887875280589064, 'reg_lambda': 4.943663311791331, 'min_child_weight': 2, 'gamma': 0.31940105616792763, 'n_estimators': 900}. Best is trial 32 with value: 0.9408533101203453.\n",
      "[I 2025-04-25 20:49:43,057] Trial 83 finished with value: 0.9393000195905536 and parameters: {'learning_rate': 0.18066391126321896, 'max_depth': 8, 'subsample': 0.8981422953091509, 'colsample_bytree': 0.7989411672751314, 'reg_alpha': 0.7988192666788866, 'reg_lambda': 5.658287730281844, 'min_child_weight': 1, 'gamma': 0.4935073696226302, 'n_estimators': 1000}. Best is trial 32 with value: 0.9408533101203453.\n",
      "[I 2025-04-25 20:49:47,991] Trial 84 finished with value: 0.9382769105327853 and parameters: {'learning_rate': 0.09182232698977652, 'max_depth': 7, 'subsample': 0.9286883751318962, 'colsample_bytree': 0.7904972917825507, 'reg_alpha': 0.5237608947881744, 'reg_lambda': 6.817310227924657, 'min_child_weight': 3, 'gamma': 0.7228798957219729, 'n_estimators': 900}. Best is trial 32 with value: 0.9408533101203453.\n",
      "[I 2025-04-25 20:49:55,225] Trial 85 finished with value: 0.9392029894108601 and parameters: {'learning_rate': 0.20818058464233904, 'max_depth': 9, 'subsample': 0.8609259580045198, 'colsample_bytree': 0.7770875123442267, 'reg_alpha': 0.21194521948561335, 'reg_lambda': 4.542198614107394, 'min_child_weight': 2, 'gamma': 0.3520365310691332, 'n_estimators': 1000}. Best is trial 32 with value: 0.9408533101203453.\n",
      "[I 2025-04-25 20:49:58,902] Trial 86 finished with value: 0.939316844020311 and parameters: {'learning_rate': 0.26201531516163107, 'max_depth': 8, 'subsample': 0.9442902347390592, 'colsample_bytree': 0.7576248630354325, 'reg_alpha': 1.1940020477424895, 'reg_lambda': 3.0141018944845173, 'min_child_weight': 1, 'gamma': 0.5569248406510323, 'n_estimators': 800}. Best is trial 32 with value: 0.9408533101203453.\n",
      "[I 2025-04-25 20:50:02,670] Trial 87 finished with value: 0.934328159956844 and parameters: {'learning_rate': 0.1917216720406437, 'max_depth': 8, 'subsample': 0.8813895884574388, 'colsample_bytree': 0.8461907145273326, 'reg_alpha': 0.9299684603753798, 'reg_lambda': 4.399298173573464, 'min_child_weight': 3, 'gamma': 2.445765273912304, 'n_estimators': 900}. Best is trial 32 with value: 0.9408533101203453.\n",
      "[I 2025-04-25 20:50:13,115] Trial 88 finished with value: 0.9371430438664096 and parameters: {'learning_rate': 0.16740136216856374, 'max_depth': 9, 'subsample': 0.8937129260743081, 'colsample_bytree': 0.8367134861419977, 'reg_alpha': 0.0215200052643178, 'reg_lambda': 3.9453026193189267, 'min_child_weight': 8, 'gamma': 0.15405289943070752, 'n_estimators': 1000}. Best is trial 32 with value: 0.9408533101203453.\n",
      "[I 2025-04-25 20:50:18,711] Trial 89 finished with value: 0.9384546364476563 and parameters: {'learning_rate': 0.1478396346936061, 'max_depth': 8, 'subsample': 0.9156261749107746, 'colsample_bytree': 0.8752708255496977, 'reg_alpha': 0.5703103272686696, 'reg_lambda': 4.774140875789443, 'min_child_weight': 10, 'gamma': 0.38934756544973653, 'n_estimators': 800}. Best is trial 32 with value: 0.9408533101203453.\n",
      "[I 2025-04-25 20:50:22,730] Trial 90 finished with value: 0.9298649217707547 and parameters: {'learning_rate': 0.1314270144060758, 'max_depth': 7, 'subsample': 0.9541063339005691, 'colsample_bytree': 0.8948497853413294, 'reg_alpha': 9.923587203444004, 'reg_lambda': 5.340805140411193, 'min_child_weight': 2, 'gamma': 2.05364629257247, 'n_estimators': 1000}. Best is trial 32 with value: 0.9408533101203453.\n",
      "[I 2025-04-25 20:50:29,889] Trial 91 finished with value: 0.938726314085369 and parameters: {'learning_rate': 0.19883529756328397, 'max_depth': 7, 'subsample': 0.9072254739348239, 'colsample_bytree': 0.8056439240313826, 'reg_alpha': 0.6547330428823539, 'reg_lambda': 5.454077338725499, 'min_child_weight': 3, 'gamma': 0.12934842931639562, 'n_estimators': 800}. Best is trial 32 with value: 0.9408533101203453.\n",
      "[I 2025-04-25 20:50:35,689] Trial 92 finished with value: 0.939646076165231 and parameters: {'learning_rate': 0.11007001189683502, 'max_depth': 6, 'subsample': 0.9337969920611182, 'colsample_bytree': 0.7943386490734973, 'reg_alpha': 1.3677423685514634, 'reg_lambda': 5.653497303303777, 'min_child_weight': 4, 'gamma': 0.29727633301355716, 'n_estimators': 900}. Best is trial 32 with value: 0.9408533101203453.\n",
      "[I 2025-04-25 20:50:40,080] Trial 93 finished with value: 0.9365471192883417 and parameters: {'learning_rate': 0.10443069997982567, 'max_depth': 6, 'subsample': 0.9360778285221618, 'colsample_bytree': 0.7900002116588541, 'reg_alpha': 1.3456296111965018, 'reg_lambda': 6.056714524280668, 'min_child_weight': 4, 'gamma': 0.7599920638940961, 'n_estimators': 900}. Best is trial 32 with value: 0.9408533101203453.\n",
      "[I 2025-04-25 20:50:44,761] Trial 94 finished with value: 0.9390242567620692 and parameters: {'learning_rate': 0.15442835290221313, 'max_depth': 5, 'subsample': 0.9737048252910361, 'colsample_bytree': 0.7656265091539083, 'reg_alpha': 0.3035965919434573, 'reg_lambda': 5.7365564095331045, 'min_child_weight': 1, 'gamma': 0.3231225196876704, 'n_estimators': 900}. Best is trial 32 with value: 0.9408533101203453.\n",
      "[I 2025-04-25 20:50:51,477] Trial 95 finished with value: 0.9395784239199889 and parameters: {'learning_rate': 0.08351743597186786, 'max_depth': 6, 'subsample': 0.8765384835944087, 'colsample_bytree': 0.8196577812129483, 'reg_alpha': 1.0567269540790607, 'reg_lambda': 5.119006436583282, 'min_child_weight': 2, 'gamma': 0.517802361097857, 'n_estimators': 1000}. Best is trial 32 with value: 0.9408533101203453.\n",
      "[I 2025-04-25 20:50:55,018] Trial 96 finished with value: 0.9376219973017491 and parameters: {'learning_rate': 0.18412336037594726, 'max_depth': 5, 'subsample': 0.9179044273216458, 'colsample_bytree': 0.7730799437857533, 'reg_alpha': 0.7789052431239518, 'reg_lambda': 7.2480554719547, 'min_child_weight': 1, 'gamma': 0.6655111139375471, 'n_estimators': 700}. Best is trial 32 with value: 0.9408533101203453.\n",
      "[I 2025-04-25 20:51:01,449] Trial 97 finished with value: 0.9393366712548563 and parameters: {'learning_rate': 0.11036410888170567, 'max_depth': 6, 'subsample': 0.9264806120819961, 'colsample_bytree': 0.8511751368090494, 'reg_alpha': 1.5722418108704654, 'reg_lambda': 4.349438967434391, 'min_child_weight': 4, 'gamma': 0.2751062378864352, 'n_estimators': 1000}. Best is trial 32 with value: 0.9408533101203453.\n",
      "[I 2025-04-25 20:51:05,192] Trial 98 finished with value: 0.9360596054427697 and parameters: {'learning_rate': 0.21436526276539242, 'max_depth': 9, 'subsample': 0.9437829182147704, 'colsample_bytree': 0.8316260851000336, 'reg_alpha': 2.0605214145809465, 'reg_lambda': 6.411143492989521, 'min_child_weight': 6, 'gamma': 0.9281148944662627, 'n_estimators': 900}. Best is trial 32 with value: 0.9408533101203453.\n",
      "[I 2025-04-25 20:51:11,325] Trial 99 finished with value: 0.9367473042264554 and parameters: {'learning_rate': 0.28162917736945897, 'max_depth': 3, 'subsample': 0.8647200787560346, 'colsample_bytree': 0.974238105510697, 'reg_alpha': 0.20590906750237117, 'reg_lambda': 4.129988636351842, 'min_child_weight': 2, 'gamma': 0.46082911256139436, 'n_estimators': 1000}. Best is trial 32 with value: 0.9408533101203453.\n"
     ]
    },
    {
     "name": "stdout",
     "output_type": "stream",
     "text": [
      "Best hyperparameters found:  {'learning_rate': 0.13291484016415933, 'max_depth': 7, 'subsample': 0.9112140881002768, 'colsample_bytree': 0.7372877262802932, 'reg_alpha': 0.05359567621966728, 'reg_lambda': 3.8899873714848487, 'min_child_weight': 1, 'gamma': 0.35715295389157653, 'n_estimators': 900}\n"
     ]
    }
   ],
   "execution_count": 10
  },
  {
   "metadata": {
    "ExecuteTime": {
     "end_time": "2025-04-25T00:18:33.189669Z",
     "start_time": "2025-04-25T00:18:33.060877Z"
    }
   },
   "cell_type": "code",
   "source": [
    "xg = XGBClassifier(**study1.best_params\n",
    ")\n",
    "xg.fit(aX_train, ay_train)\n",
    "getScores(xg, aX_test, ay_test, bX, by)"
   ],
   "id": "6c2dd650c2ff349d",
   "outputs": [
    {
     "data": {
      "text/plain": [
       "          Accuracy  F1 Score  Precision    Recall  ROC AUC:\n",
       "Internal  0.938080  0.944307   0.943334  0.945282  0.983406\n",
       "External  0.757312  0.763440   0.704557  0.833062  0.854291"
      ],
      "text/html": [
       "<div>\n",
       "<style scoped>\n",
       "    .dataframe tbody tr th:only-of-type {\n",
       "        vertical-align: middle;\n",
       "    }\n",
       "\n",
       "    .dataframe tbody tr th {\n",
       "        vertical-align: top;\n",
       "    }\n",
       "\n",
       "    .dataframe thead th {\n",
       "        text-align: right;\n",
       "    }\n",
       "</style>\n",
       "<table border=\"1\" class=\"dataframe\">\n",
       "  <thead>\n",
       "    <tr style=\"text-align: right;\">\n",
       "      <th></th>\n",
       "      <th>Accuracy</th>\n",
       "      <th>F1 Score</th>\n",
       "      <th>Precision</th>\n",
       "      <th>Recall</th>\n",
       "      <th>ROC AUC:</th>\n",
       "    </tr>\n",
       "  </thead>\n",
       "  <tbody>\n",
       "    <tr>\n",
       "      <th>Internal</th>\n",
       "      <td>0.938080</td>\n",
       "      <td>0.944307</td>\n",
       "      <td>0.943334</td>\n",
       "      <td>0.945282</td>\n",
       "      <td>0.983406</td>\n",
       "    </tr>\n",
       "    <tr>\n",
       "      <th>External</th>\n",
       "      <td>0.757312</td>\n",
       "      <td>0.763440</td>\n",
       "      <td>0.704557</td>\n",
       "      <td>0.833062</td>\n",
       "      <td>0.854291</td>\n",
       "    </tr>\n",
       "  </tbody>\n",
       "</table>\n",
       "</div>"
      ]
     },
     "metadata": {},
     "output_type": "display_data"
    }
   ],
   "execution_count": 59
  },
  {
   "metadata": {
    "ExecuteTime": {
     "end_time": "2025-04-24T20:40:01.730211Z",
     "start_time": "2025-04-24T20:40:01.660927Z"
    }
   },
   "cell_type": "code",
   "source": "getScores(xgboostA, aX_test, ay_test, bX, by)",
   "id": "45bbf7113e7d031c",
   "outputs": [
    {
     "data": {
      "text/plain": [
       "          Accuracy  F1 Score  Precision    Recall  ROC AUC:\n",
       "Internal  0.933150  0.940174   0.934517  0.945901  0.982224\n",
       "External  0.744026  0.745340   0.700071  0.796869  0.830918"
      ],
      "text/html": [
       "<div>\n",
       "<style scoped>\n",
       "    .dataframe tbody tr th:only-of-type {\n",
       "        vertical-align: middle;\n",
       "    }\n",
       "\n",
       "    .dataframe tbody tr th {\n",
       "        vertical-align: top;\n",
       "    }\n",
       "\n",
       "    .dataframe thead th {\n",
       "        text-align: right;\n",
       "    }\n",
       "</style>\n",
       "<table border=\"1\" class=\"dataframe\">\n",
       "  <thead>\n",
       "    <tr style=\"text-align: right;\">\n",
       "      <th></th>\n",
       "      <th>Accuracy</th>\n",
       "      <th>F1 Score</th>\n",
       "      <th>Precision</th>\n",
       "      <th>Recall</th>\n",
       "      <th>ROC AUC:</th>\n",
       "    </tr>\n",
       "  </thead>\n",
       "  <tbody>\n",
       "    <tr>\n",
       "      <th>Internal</th>\n",
       "      <td>0.933150</td>\n",
       "      <td>0.940174</td>\n",
       "      <td>0.934517</td>\n",
       "      <td>0.945901</td>\n",
       "      <td>0.982224</td>\n",
       "    </tr>\n",
       "    <tr>\n",
       "      <th>External</th>\n",
       "      <td>0.744026</td>\n",
       "      <td>0.745340</td>\n",
       "      <td>0.700071</td>\n",
       "      <td>0.796869</td>\n",
       "      <td>0.830918</td>\n",
       "    </tr>\n",
       "  </tbody>\n",
       "</table>\n",
       "</div>"
      ]
     },
     "metadata": {},
     "output_type": "display_data"
    }
   ],
   "execution_count": 34
  },
  {
   "metadata": {},
   "cell_type": "markdown",
   "source": "The optimised XGBoost model performs better than the base model, with a noticeable improvement in recall. This is necessary for a security sensitive field such as phishing detection so this is very promising. This model was selected for the API.",
   "id": "a72e8c6608752a0a"
  },
  {
   "metadata": {
    "ExecuteTime": {
     "end_time": "2025-04-25T02:44:50.263657Z",
     "start_time": "2025-04-25T02:44:50.242714Z"
    }
   },
   "cell_type": "code",
   "source": [
    "import joblib #save model for usage in Flask API\n",
    "\n",
    "joblib.dump(xg, 'xgboost.pkl')"
   ],
   "id": "491c5452ee001718",
   "outputs": [],
   "execution_count": 76
  },
  {
   "metadata": {
    "ExecuteTime": {
     "end_time": "2025-04-26T20:46:54.081288Z",
     "start_time": "2025-04-26T20:46:54.066292Z"
    }
   },
   "cell_type": "code",
   "outputs": [
    {
     "data": {
      "text/plain": [
       "['model_columns.pkl']"
      ]
     },
     "execution_count": 9,
     "metadata": {},
     "output_type": "execute_result"
    }
   ],
   "execution_count": 9,
   "source": [
    "import joblib #save model columns so they can persist in FLask API\n",
    "model_columns = aX.columns\n",
    "joblib.dump(model_columns, 'model_columns.pkl')"
   ],
   "id": "5fff10f4a8ae436c"
  }
 ],
 "metadata": {
  "kernelspec": {
   "display_name": "Python 3",
   "language": "python",
   "name": "python3"
  },
  "language_info": {
   "codemirror_mode": {
    "name": "ipython",
    "version": 2
   },
   "file_extension": ".py",
   "mimetype": "text/x-python",
   "name": "python",
   "nbconvert_exporter": "python",
   "pygments_lexer": "ipython2",
   "version": "2.7.6"
  }
 },
 "nbformat": 4,
 "nbformat_minor": 5
}
