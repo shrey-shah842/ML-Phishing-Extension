{
 "cells": [
  {
   "metadata": {},
   "cell_type": "markdown",
   "source": "<h1>Preprocessing datasets for phishing detection</h1>",
   "id": "3652bb633161f29a"
  },
  {
   "metadata": {},
   "cell_type": "markdown",
   "source": [
    "## Loading Datasets\n",
    "We will be using two datasets for the purposes of external validation. The use-case of our extension requires a model that is adept at generalisation and can be effective 'in the field.' In order to develop a capable model, the datasets must be feature rich and provide ample training data. Therefore, two datasets have been chosen that contain both of these properties. More details about the selection process for these datasets can be found in the report, but to summarise, one dataset has been provided utilising URLs from Phishtank combined with benign URLs, with over 111 features to extract. The second dataset has been pulled from Kaggle, containing 11,000 URLs with 87 features. These features are pulled from the URL, HTML content and domain properties. To operate on these datasets, the following libraries will be needed.\n",
    "\n",
    "The Phishtank dataset was last updated in 2024, introducing new phishing URLs, whereas the Kaggle dataset was updated in 2021. This can be an effective way to explore how phishing attacks have changed, with attackers attempting new techniques commonly and with the attack vector not being static in general."
   ],
   "id": "1d305dc24c0f8fd3"
  },
  {
   "metadata": {
    "ExecuteTime": {
     "end_time": "2025-04-20T18:29:26.972988Z",
     "start_time": "2025-04-20T18:29:26.956473Z"
    }
   },
   "cell_type": "code",
   "source": "import pandas as pd",
   "id": "b3ca35649708911a",
   "outputs": [],
   "execution_count": 31
  },
  {
   "metadata": {},
   "cell_type": "markdown",
   "source": "To download the Kaggle dataset, the opendatasets library was used to pull it automatically. We can then see which features are available and check the amount of items and features.",
   "id": "dddbbbc707228eec"
  },
  {
   "metadata": {},
   "cell_type": "code",
   "source": [
    "import opendatasets as od\n",
    "od.download(\"https://www.kaggle.com/datasets/shashwatwork/web-page-phishing-detection-dataset\")"
   ],
   "id": "a65dcb6dd3accf43",
   "outputs": [],
   "execution_count": null
  },
  {
   "metadata": {
    "ExecuteTime": {
     "end_time": "2025-04-19T21:53:22.614750Z",
     "start_time": "2025-04-19T21:53:22.529922Z"
    }
   },
   "cell_type": "code",
   "source": [
    "filepath = 'Datasets/web-page-phishing-detection-dataset/dataset_phishing.csv'  #create the filepath to our dataset\n",
    "kaggleData = pd.read_csv(filepath) #read the data in the file using the pandas library\n",
    "kaggleData.head() # print some values to check if things are correct"
   ],
   "id": "b0e3ea4240bab816",
   "outputs": [
    {
     "data": {
      "text/plain": [
       "                                                 url  length_url  \\\n",
       "0              http://www.crestonwood.com/router.php          37   \n",
       "1  http://shadetreetechnology.com/V4/validation/a...          77   \n",
       "2  https://support-appleld.com.secureupdate.duila...         126   \n",
       "3                                 http://rgipt.ac.in          18   \n",
       "4  http://www.iracing.com/tracks/gateway-motorspo...          55   \n",
       "\n",
       "   length_hostname  ip  nb_dots  nb_hyphens  nb_at  nb_qm  nb_and  nb_or  ...  \\\n",
       "0               19   0        3           0      0      0       0      0  ...   \n",
       "1               23   1        1           0      0      0       0      0  ...   \n",
       "2               50   1        4           1      0      1       2      0  ...   \n",
       "3               11   0        2           0      0      0       0      0  ...   \n",
       "4               15   0        2           2      0      0       0      0  ...   \n",
       "\n",
       "   domain_in_title  domain_with_copyright  whois_registered_domain  \\\n",
       "0                0                      1                        0   \n",
       "1                1                      0                        0   \n",
       "2                1                      0                        0   \n",
       "3                1                      0                        0   \n",
       "4                0                      1                        0   \n",
       "\n",
       "   domain_registration_length  domain_age  web_traffic  dns_record  \\\n",
       "0                          45          -1            0           1   \n",
       "1                          77        5767            0           0   \n",
       "2                          14        4004      5828815           0   \n",
       "3                          62          -1       107721           0   \n",
       "4                         224        8175         8725           0   \n",
       "\n",
       "   google_index  page_rank      status  \n",
       "0             1          4  legitimate  \n",
       "1             1          2    phishing  \n",
       "2             1          0    phishing  \n",
       "3             0          3  legitimate  \n",
       "4             0          6  legitimate  \n",
       "\n",
       "[5 rows x 89 columns]"
      ],
      "text/html": [
       "<div>\n",
       "<style scoped>\n",
       "    .dataframe tbody tr th:only-of-type {\n",
       "        vertical-align: middle;\n",
       "    }\n",
       "\n",
       "    .dataframe tbody tr th {\n",
       "        vertical-align: top;\n",
       "    }\n",
       "\n",
       "    .dataframe thead th {\n",
       "        text-align: right;\n",
       "    }\n",
       "</style>\n",
       "<table border=\"1\" class=\"dataframe\">\n",
       "  <thead>\n",
       "    <tr style=\"text-align: right;\">\n",
       "      <th></th>\n",
       "      <th>url</th>\n",
       "      <th>length_url</th>\n",
       "      <th>length_hostname</th>\n",
       "      <th>ip</th>\n",
       "      <th>nb_dots</th>\n",
       "      <th>nb_hyphens</th>\n",
       "      <th>nb_at</th>\n",
       "      <th>nb_qm</th>\n",
       "      <th>nb_and</th>\n",
       "      <th>nb_or</th>\n",
       "      <th>...</th>\n",
       "      <th>domain_in_title</th>\n",
       "      <th>domain_with_copyright</th>\n",
       "      <th>whois_registered_domain</th>\n",
       "      <th>domain_registration_length</th>\n",
       "      <th>domain_age</th>\n",
       "      <th>web_traffic</th>\n",
       "      <th>dns_record</th>\n",
       "      <th>google_index</th>\n",
       "      <th>page_rank</th>\n",
       "      <th>status</th>\n",
       "    </tr>\n",
       "  </thead>\n",
       "  <tbody>\n",
       "    <tr>\n",
       "      <th>0</th>\n",
       "      <td>http://www.crestonwood.com/router.php</td>\n",
       "      <td>37</td>\n",
       "      <td>19</td>\n",
       "      <td>0</td>\n",
       "      <td>3</td>\n",
       "      <td>0</td>\n",
       "      <td>0</td>\n",
       "      <td>0</td>\n",
       "      <td>0</td>\n",
       "      <td>0</td>\n",
       "      <td>...</td>\n",
       "      <td>0</td>\n",
       "      <td>1</td>\n",
       "      <td>0</td>\n",
       "      <td>45</td>\n",
       "      <td>-1</td>\n",
       "      <td>0</td>\n",
       "      <td>1</td>\n",
       "      <td>1</td>\n",
       "      <td>4</td>\n",
       "      <td>legitimate</td>\n",
       "    </tr>\n",
       "    <tr>\n",
       "      <th>1</th>\n",
       "      <td>http://shadetreetechnology.com/V4/validation/a...</td>\n",
       "      <td>77</td>\n",
       "      <td>23</td>\n",
       "      <td>1</td>\n",
       "      <td>1</td>\n",
       "      <td>0</td>\n",
       "      <td>0</td>\n",
       "      <td>0</td>\n",
       "      <td>0</td>\n",
       "      <td>0</td>\n",
       "      <td>...</td>\n",
       "      <td>1</td>\n",
       "      <td>0</td>\n",
       "      <td>0</td>\n",
       "      <td>77</td>\n",
       "      <td>5767</td>\n",
       "      <td>0</td>\n",
       "      <td>0</td>\n",
       "      <td>1</td>\n",
       "      <td>2</td>\n",
       "      <td>phishing</td>\n",
       "    </tr>\n",
       "    <tr>\n",
       "      <th>2</th>\n",
       "      <td>https://support-appleld.com.secureupdate.duila...</td>\n",
       "      <td>126</td>\n",
       "      <td>50</td>\n",
       "      <td>1</td>\n",
       "      <td>4</td>\n",
       "      <td>1</td>\n",
       "      <td>0</td>\n",
       "      <td>1</td>\n",
       "      <td>2</td>\n",
       "      <td>0</td>\n",
       "      <td>...</td>\n",
       "      <td>1</td>\n",
       "      <td>0</td>\n",
       "      <td>0</td>\n",
       "      <td>14</td>\n",
       "      <td>4004</td>\n",
       "      <td>5828815</td>\n",
       "      <td>0</td>\n",
       "      <td>1</td>\n",
       "      <td>0</td>\n",
       "      <td>phishing</td>\n",
       "    </tr>\n",
       "    <tr>\n",
       "      <th>3</th>\n",
       "      <td>http://rgipt.ac.in</td>\n",
       "      <td>18</td>\n",
       "      <td>11</td>\n",
       "      <td>0</td>\n",
       "      <td>2</td>\n",
       "      <td>0</td>\n",
       "      <td>0</td>\n",
       "      <td>0</td>\n",
       "      <td>0</td>\n",
       "      <td>0</td>\n",
       "      <td>...</td>\n",
       "      <td>1</td>\n",
       "      <td>0</td>\n",
       "      <td>0</td>\n",
       "      <td>62</td>\n",
       "      <td>-1</td>\n",
       "      <td>107721</td>\n",
       "      <td>0</td>\n",
       "      <td>0</td>\n",
       "      <td>3</td>\n",
       "      <td>legitimate</td>\n",
       "    </tr>\n",
       "    <tr>\n",
       "      <th>4</th>\n",
       "      <td>http://www.iracing.com/tracks/gateway-motorspo...</td>\n",
       "      <td>55</td>\n",
       "      <td>15</td>\n",
       "      <td>0</td>\n",
       "      <td>2</td>\n",
       "      <td>2</td>\n",
       "      <td>0</td>\n",
       "      <td>0</td>\n",
       "      <td>0</td>\n",
       "      <td>0</td>\n",
       "      <td>...</td>\n",
       "      <td>0</td>\n",
       "      <td>1</td>\n",
       "      <td>0</td>\n",
       "      <td>224</td>\n",
       "      <td>8175</td>\n",
       "      <td>8725</td>\n",
       "      <td>0</td>\n",
       "      <td>0</td>\n",
       "      <td>6</td>\n",
       "      <td>legitimate</td>\n",
       "    </tr>\n",
       "  </tbody>\n",
       "</table>\n",
       "<p>5 rows × 89 columns</p>\n",
       "</div>"
      ]
     },
     "execution_count": 4,
     "metadata": {},
     "output_type": "execute_result"
    }
   ],
   "execution_count": 4
  },
  {
   "metadata": {
    "ExecuteTime": {
     "end_time": "2025-04-19T21:53:26.226287Z",
     "start_time": "2025-04-19T21:53:26.223420Z"
    }
   },
   "cell_type": "code",
   "source": "print(kaggleData.shape) #Print the dimensions of the dataset",
   "id": "40458c057f17821f",
   "outputs": [
    {
     "name": "stdout",
     "output_type": "stream",
     "text": [
      "(11430, 89)\n"
     ]
    }
   ],
   "execution_count": 5
  },
  {
   "metadata": {},
   "cell_type": "markdown",
   "source": "The Kaggle dataset contains 11430 items, specifying a 50/50 split between benign and malicious URLs. The second dataset is a Phishtank adjacent dataset, containing 58645 items with a 50/50 split. However, as you can see the dataset does not contain the actual URLs and only the extracted features, meaning any future feature engineering will have to be conducted on the Kaggle dataset. The selection method of these features can be seen in the accompanying report.",
   "id": "27d6b08c06b8afea"
  },
  {
   "metadata": {
    "ExecuteTime": {
     "end_time": "2025-04-19T21:53:29.156819Z",
     "start_time": "2025-04-19T21:53:28.849127Z"
    }
   },
   "cell_type": "code",
   "source": [
    "filepath2 = 'Datasets/dataset_small.csv'\n",
    "phishTankData = pd.read_csv(filepath2)\n",
    "phishTankData.head()"
   ],
   "id": "4347779bd2e6185a",
   "outputs": [
    {
     "data": {
      "text/plain": [
       "   qty_dot_url  qty_hyphen_url  qty_underline_url  qty_slash_url  \\\n",
       "0            2               0                  0              0   \n",
       "1            4               0                  0              2   \n",
       "2            1               0                  0              1   \n",
       "3            2               0                  0              3   \n",
       "4            1               1                  0              4   \n",
       "\n",
       "   qty_questionmark_url  qty_equal_url  qty_at_url  qty_and_url  \\\n",
       "0                     0              0           0            0   \n",
       "1                     0              0           0            0   \n",
       "2                     0              0           0            0   \n",
       "3                     0              0           0            0   \n",
       "4                     0              0           0            0   \n",
       "\n",
       "   qty_exclamation_url  qty_space_url  ...  qty_ip_resolved  qty_nameservers  \\\n",
       "0                    0              0  ...                1                4   \n",
       "1                    0              0  ...                1                4   \n",
       "2                    0              0  ...                1                2   \n",
       "3                    0              0  ...                1                2   \n",
       "4                    0              0  ...                1                2   \n",
       "\n",
       "   qty_mx_servers  ttl_hostname  tls_ssl_certificate  qty_redirects  \\\n",
       "0               2          3598                    0              0   \n",
       "1               1          3977                    1              0   \n",
       "2               1         10788                    0              0   \n",
       "3               1         14339                    1              0   \n",
       "4               1           389                    1              1   \n",
       "\n",
       "   url_google_index  domain_google_index  url_shortened  phishing  \n",
       "0                 0                    0              0         0  \n",
       "1                 0                    0              0         0  \n",
       "2                 0                    0              0         0  \n",
       "3                 0                    0              0         1  \n",
       "4                 0                    0              0         1  \n",
       "\n",
       "[5 rows x 112 columns]"
      ],
      "text/html": [
       "<div>\n",
       "<style scoped>\n",
       "    .dataframe tbody tr th:only-of-type {\n",
       "        vertical-align: middle;\n",
       "    }\n",
       "\n",
       "    .dataframe tbody tr th {\n",
       "        vertical-align: top;\n",
       "    }\n",
       "\n",
       "    .dataframe thead th {\n",
       "        text-align: right;\n",
       "    }\n",
       "</style>\n",
       "<table border=\"1\" class=\"dataframe\">\n",
       "  <thead>\n",
       "    <tr style=\"text-align: right;\">\n",
       "      <th></th>\n",
       "      <th>qty_dot_url</th>\n",
       "      <th>qty_hyphen_url</th>\n",
       "      <th>qty_underline_url</th>\n",
       "      <th>qty_slash_url</th>\n",
       "      <th>qty_questionmark_url</th>\n",
       "      <th>qty_equal_url</th>\n",
       "      <th>qty_at_url</th>\n",
       "      <th>qty_and_url</th>\n",
       "      <th>qty_exclamation_url</th>\n",
       "      <th>qty_space_url</th>\n",
       "      <th>...</th>\n",
       "      <th>qty_ip_resolved</th>\n",
       "      <th>qty_nameservers</th>\n",
       "      <th>qty_mx_servers</th>\n",
       "      <th>ttl_hostname</th>\n",
       "      <th>tls_ssl_certificate</th>\n",
       "      <th>qty_redirects</th>\n",
       "      <th>url_google_index</th>\n",
       "      <th>domain_google_index</th>\n",
       "      <th>url_shortened</th>\n",
       "      <th>phishing</th>\n",
       "    </tr>\n",
       "  </thead>\n",
       "  <tbody>\n",
       "    <tr>\n",
       "      <th>0</th>\n",
       "      <td>2</td>\n",
       "      <td>0</td>\n",
       "      <td>0</td>\n",
       "      <td>0</td>\n",
       "      <td>0</td>\n",
       "      <td>0</td>\n",
       "      <td>0</td>\n",
       "      <td>0</td>\n",
       "      <td>0</td>\n",
       "      <td>0</td>\n",
       "      <td>...</td>\n",
       "      <td>1</td>\n",
       "      <td>4</td>\n",
       "      <td>2</td>\n",
       "      <td>3598</td>\n",
       "      <td>0</td>\n",
       "      <td>0</td>\n",
       "      <td>0</td>\n",
       "      <td>0</td>\n",
       "      <td>0</td>\n",
       "      <td>0</td>\n",
       "    </tr>\n",
       "    <tr>\n",
       "      <th>1</th>\n",
       "      <td>4</td>\n",
       "      <td>0</td>\n",
       "      <td>0</td>\n",
       "      <td>2</td>\n",
       "      <td>0</td>\n",
       "      <td>0</td>\n",
       "      <td>0</td>\n",
       "      <td>0</td>\n",
       "      <td>0</td>\n",
       "      <td>0</td>\n",
       "      <td>...</td>\n",
       "      <td>1</td>\n",
       "      <td>4</td>\n",
       "      <td>1</td>\n",
       "      <td>3977</td>\n",
       "      <td>1</td>\n",
       "      <td>0</td>\n",
       "      <td>0</td>\n",
       "      <td>0</td>\n",
       "      <td>0</td>\n",
       "      <td>0</td>\n",
       "    </tr>\n",
       "    <tr>\n",
       "      <th>2</th>\n",
       "      <td>1</td>\n",
       "      <td>0</td>\n",
       "      <td>0</td>\n",
       "      <td>1</td>\n",
       "      <td>0</td>\n",
       "      <td>0</td>\n",
       "      <td>0</td>\n",
       "      <td>0</td>\n",
       "      <td>0</td>\n",
       "      <td>0</td>\n",
       "      <td>...</td>\n",
       "      <td>1</td>\n",
       "      <td>2</td>\n",
       "      <td>1</td>\n",
       "      <td>10788</td>\n",
       "      <td>0</td>\n",
       "      <td>0</td>\n",
       "      <td>0</td>\n",
       "      <td>0</td>\n",
       "      <td>0</td>\n",
       "      <td>0</td>\n",
       "    </tr>\n",
       "    <tr>\n",
       "      <th>3</th>\n",
       "      <td>2</td>\n",
       "      <td>0</td>\n",
       "      <td>0</td>\n",
       "      <td>3</td>\n",
       "      <td>0</td>\n",
       "      <td>0</td>\n",
       "      <td>0</td>\n",
       "      <td>0</td>\n",
       "      <td>0</td>\n",
       "      <td>0</td>\n",
       "      <td>...</td>\n",
       "      <td>1</td>\n",
       "      <td>2</td>\n",
       "      <td>1</td>\n",
       "      <td>14339</td>\n",
       "      <td>1</td>\n",
       "      <td>0</td>\n",
       "      <td>0</td>\n",
       "      <td>0</td>\n",
       "      <td>0</td>\n",
       "      <td>1</td>\n",
       "    </tr>\n",
       "    <tr>\n",
       "      <th>4</th>\n",
       "      <td>1</td>\n",
       "      <td>1</td>\n",
       "      <td>0</td>\n",
       "      <td>4</td>\n",
       "      <td>0</td>\n",
       "      <td>0</td>\n",
       "      <td>0</td>\n",
       "      <td>0</td>\n",
       "      <td>0</td>\n",
       "      <td>0</td>\n",
       "      <td>...</td>\n",
       "      <td>1</td>\n",
       "      <td>2</td>\n",
       "      <td>1</td>\n",
       "      <td>389</td>\n",
       "      <td>1</td>\n",
       "      <td>1</td>\n",
       "      <td>0</td>\n",
       "      <td>0</td>\n",
       "      <td>0</td>\n",
       "      <td>1</td>\n",
       "    </tr>\n",
       "  </tbody>\n",
       "</table>\n",
       "<p>5 rows × 112 columns</p>\n",
       "</div>"
      ]
     },
     "execution_count": 6,
     "metadata": {},
     "output_type": "execute_result"
    }
   ],
   "execution_count": 6
  },
  {
   "metadata": {
    "ExecuteTime": {
     "end_time": "2025-04-19T21:53:31.225871Z",
     "start_time": "2025-04-19T21:53:31.221867Z"
    }
   },
   "cell_type": "code",
   "source": "print(phishTankData.shape)",
   "id": "6084585cb1708264",
   "outputs": [
    {
     "name": "stdout",
     "output_type": "stream",
     "text": [
      "(58645, 112)\n"
     ]
    }
   ],
   "execution_count": 7
  },
  {
   "metadata": {},
   "cell_type": "markdown",
   "source": "We can see that both datasets offer multiple features, 88 and 111 respectively, with one extra feature being the label. The next step will be to designate the important features and reduce the overall number of features. This is necessary to ensure that when the model is deployed it is efficient and does not impede the user experience.",
   "id": "966b0a8aaf905abf"
  },
  {
   "metadata": {},
   "cell_type": "markdown",
   "source": [
    "## Feature Selection\n",
    "To properly implement external validation, we will normalise features and data throughout our two datasets. To do so we must first select a subset of common features that are shown to be strong indicators of phishing whilst also reducing the feature count to increase efficiency of the deployed model. The justification and selection of features can be seen below:\n",
    "<figure>\n",
    "<img src=\"utilities/Phishing%20Features.png\" alt=\"features\" width=\"1000\"/>\n",
    "\n",
    "The chosen features are pulled from the domain information and URL syntax, further features were deemed unfeasible for this project due to the processing time when the model is deployed and certain WHOIS features could not be queried en masse to be extracted for the dataset.\n",
    "\n"
   ],
   "id": "bc1441ef402dc318"
  },
  {
   "metadata": {
    "ExecuteTime": {
     "end_time": "2025-04-21T16:47:28.753072Z",
     "start_time": "2025-04-21T16:47:28.578992Z"
    }
   },
   "cell_type": "code",
   "source": [
    "selected_features = [\n",
    "    'length_url', 'domain_length', 'directory_length', 'file_length',\n",
    "    'params_length', 'qty_slash_url', 'qty_dot_url', 'domain_in_ip',\n",
    "    'qty_at_url', 'asn_ip', 'time_domain_activation', 'time_domain_expiration',\n",
    "    'qty_hyphen_url', 'url_google_index', 'url_shortened', 'phishing'\n",
    "]\n",
    "\n",
    "# pull the selected columns into a dataframe\n",
    "extracted_dataset = phishTankData[selected_features]\n",
    "\n",
    "# Save to a CSV file\n",
    "extracted_dataset.to_csv('Datasets/Final_datasets/extracted_phishtank_features.csv', index=False)\n"
   ],
   "id": "45c3b9388338ab4",
   "outputs": [],
   "execution_count": 46
  },
  {
   "metadata": {
    "ExecuteTime": {
     "end_time": "2025-04-21T16:47:29.112368Z",
     "start_time": "2025-04-21T16:47:29.104648Z"
    }
   },
   "cell_type": "code",
   "source": "(extracted_dataset.head())",
   "id": "37b6095cbda1ce92",
   "outputs": [
    {
     "data": {
      "text/plain": [
       "   length_url  domain_length  directory_length  file_length  params_length  \\\n",
       "0          14             14                -1           -1             -1   \n",
       "1          38             32                 6            0             -1   \n",
       "2          24             23                 1            0             -1   \n",
       "3          38             25                13            0             -1   \n",
       "4          46             19                27            0             -1   \n",
       "\n",
       "   qty_slash_url  qty_dot_url  domain_in_ip  qty_at_url  asn_ip  \\\n",
       "0              0            2             0           0    8560   \n",
       "1              2            4             0           0  263283   \n",
       "2              1            1             0           0   26496   \n",
       "3              3            2             0           0   20013   \n",
       "4              4            1             0           0   41828   \n",
       "\n",
       "   time_domain_activation  time_domain_expiration  qty_hyphen_url  \\\n",
       "0                    4927                     185               0   \n",
       "1                    8217                      -1               0   \n",
       "2                     258                     106               0   \n",
       "3                    2602                     319               0   \n",
       "4                      -1                      -1               1   \n",
       "\n",
       "   url_google_index  url_shortened  phishing  \n",
       "0                 0              0         0  \n",
       "1                 0              0         0  \n",
       "2                 0              0         0  \n",
       "3                 0              0         1  \n",
       "4                 0              0         1  "
      ],
      "text/html": [
       "<div>\n",
       "<style scoped>\n",
       "    .dataframe tbody tr th:only-of-type {\n",
       "        vertical-align: middle;\n",
       "    }\n",
       "\n",
       "    .dataframe tbody tr th {\n",
       "        vertical-align: top;\n",
       "    }\n",
       "\n",
       "    .dataframe thead th {\n",
       "        text-align: right;\n",
       "    }\n",
       "</style>\n",
       "<table border=\"1\" class=\"dataframe\">\n",
       "  <thead>\n",
       "    <tr style=\"text-align: right;\">\n",
       "      <th></th>\n",
       "      <th>length_url</th>\n",
       "      <th>domain_length</th>\n",
       "      <th>directory_length</th>\n",
       "      <th>file_length</th>\n",
       "      <th>params_length</th>\n",
       "      <th>qty_slash_url</th>\n",
       "      <th>qty_dot_url</th>\n",
       "      <th>domain_in_ip</th>\n",
       "      <th>qty_at_url</th>\n",
       "      <th>asn_ip</th>\n",
       "      <th>time_domain_activation</th>\n",
       "      <th>time_domain_expiration</th>\n",
       "      <th>qty_hyphen_url</th>\n",
       "      <th>url_google_index</th>\n",
       "      <th>url_shortened</th>\n",
       "      <th>phishing</th>\n",
       "    </tr>\n",
       "  </thead>\n",
       "  <tbody>\n",
       "    <tr>\n",
       "      <th>0</th>\n",
       "      <td>14</td>\n",
       "      <td>14</td>\n",
       "      <td>-1</td>\n",
       "      <td>-1</td>\n",
       "      <td>-1</td>\n",
       "      <td>0</td>\n",
       "      <td>2</td>\n",
       "      <td>0</td>\n",
       "      <td>0</td>\n",
       "      <td>8560</td>\n",
       "      <td>4927</td>\n",
       "      <td>185</td>\n",
       "      <td>0</td>\n",
       "      <td>0</td>\n",
       "      <td>0</td>\n",
       "      <td>0</td>\n",
       "    </tr>\n",
       "    <tr>\n",
       "      <th>1</th>\n",
       "      <td>38</td>\n",
       "      <td>32</td>\n",
       "      <td>6</td>\n",
       "      <td>0</td>\n",
       "      <td>-1</td>\n",
       "      <td>2</td>\n",
       "      <td>4</td>\n",
       "      <td>0</td>\n",
       "      <td>0</td>\n",
       "      <td>263283</td>\n",
       "      <td>8217</td>\n",
       "      <td>-1</td>\n",
       "      <td>0</td>\n",
       "      <td>0</td>\n",
       "      <td>0</td>\n",
       "      <td>0</td>\n",
       "    </tr>\n",
       "    <tr>\n",
       "      <th>2</th>\n",
       "      <td>24</td>\n",
       "      <td>23</td>\n",
       "      <td>1</td>\n",
       "      <td>0</td>\n",
       "      <td>-1</td>\n",
       "      <td>1</td>\n",
       "      <td>1</td>\n",
       "      <td>0</td>\n",
       "      <td>0</td>\n",
       "      <td>26496</td>\n",
       "      <td>258</td>\n",
       "      <td>106</td>\n",
       "      <td>0</td>\n",
       "      <td>0</td>\n",
       "      <td>0</td>\n",
       "      <td>0</td>\n",
       "    </tr>\n",
       "    <tr>\n",
       "      <th>3</th>\n",
       "      <td>38</td>\n",
       "      <td>25</td>\n",
       "      <td>13</td>\n",
       "      <td>0</td>\n",
       "      <td>-1</td>\n",
       "      <td>3</td>\n",
       "      <td>2</td>\n",
       "      <td>0</td>\n",
       "      <td>0</td>\n",
       "      <td>20013</td>\n",
       "      <td>2602</td>\n",
       "      <td>319</td>\n",
       "      <td>0</td>\n",
       "      <td>0</td>\n",
       "      <td>0</td>\n",
       "      <td>1</td>\n",
       "    </tr>\n",
       "    <tr>\n",
       "      <th>4</th>\n",
       "      <td>46</td>\n",
       "      <td>19</td>\n",
       "      <td>27</td>\n",
       "      <td>0</td>\n",
       "      <td>-1</td>\n",
       "      <td>4</td>\n",
       "      <td>1</td>\n",
       "      <td>0</td>\n",
       "      <td>0</td>\n",
       "      <td>41828</td>\n",
       "      <td>-1</td>\n",
       "      <td>-1</td>\n",
       "      <td>1</td>\n",
       "      <td>0</td>\n",
       "      <td>0</td>\n",
       "      <td>1</td>\n",
       "    </tr>\n",
       "  </tbody>\n",
       "</table>\n",
       "</div>"
      ]
     },
     "execution_count": 47,
     "metadata": {},
     "output_type": "execute_result"
    }
   ],
   "execution_count": 47
  },
  {
   "metadata": {
    "ExecuteTime": {
     "end_time": "2025-04-21T16:47:31.550035Z",
     "start_time": "2025-04-21T16:47:31.546640Z"
    }
   },
   "cell_type": "code",
   "source": "print(extracted_dataset.shape)",
   "id": "2536315f9975b6b0",
   "outputs": [
    {
     "name": "stdout",
     "output_type": "stream",
     "text": [
      "(58645, 16)\n"
     ]
    }
   ],
   "execution_count": 48
  },
  {
   "metadata": {
    "ExecuteTime": {
     "end_time": "2025-04-20T22:41:23.436297Z",
     "start_time": "2025-04-20T22:41:23.353866Z"
    }
   },
   "cell_type": "code",
   "source": [
    "df = pd.read_csv('Datasets/extracted_phishtank_features.csv')\n",
    "# Checking for missing values using isnull()\n",
    "mv = df.isnull()\n",
    "for i in mv.columns:\n",
    "    print(f\"{i}: {mv[i].sum()}\")"
   ],
   "id": "1ae973ab560d5571",
   "outputs": [
    {
     "name": "stdout",
     "output_type": "stream",
     "text": [
      "length_url: 0\n",
      "domain_length: 0\n",
      "directory_length: 0\n",
      "file_length: 0\n",
      "params_length: 0\n",
      "qty_slash_url: 0\n",
      "qty_dot_url: 0\n",
      "domain_in_ip: 0\n",
      "qty_at_url: 0\n",
      "asn_ip: 0\n",
      "time_domain_activation: 0\n",
      "time_domain_expiration: 0\n",
      "qty_hyphen_url: 0\n",
      "url_google_index: 0\n",
      "url_shortened: 0\n",
      "phishing: 0\n"
     ]
    }
   ],
   "execution_count": 35
  },
  {
   "metadata": {},
   "cell_type": "markdown",
   "source": "We can see that there are no missing values within this dataset, and as such we can move onto loading the next dataset from Kaggle. This one does not have all the features we have selected, so we will need to code some python functions to extract the necessary features and then load them into a new extracted dataset. Once we have organised and checked the data for missing values, we can normalise throughout both sets and start training our models.",
   "id": "308af77538225dae"
  },
  {
   "metadata": {},
   "cell_type": "markdown",
   "source": "First we need to extract the URL text features, this can be done by using the urllib library. We can parse the URL to extract the file, directory and any parameters within the URL and find the length. We will then put these into our dataset.",
   "id": "e6a5b6de83ba75ed"
  },
  {
   "metadata": {
    "ExecuteTime": {
     "end_time": "2025-04-19T21:53:45.744485Z",
     "start_time": "2025-04-19T21:53:45.740508Z"
    }
   },
   "cell_type": "code",
   "source": [
    "from urllib.parse import urlparse\n",
    "def extractparams(url):\n",
    "    urlpath = urlparse(url).query\n",
    "    if urlpath:\n",
    "        return len(urlpath)\n",
    "    else:\n",
    "        return -1"
   ],
   "id": "b324c1e694fae238",
   "outputs": [],
   "execution_count": 13
  },
  {
   "metadata": {
    "ExecuteTime": {
     "end_time": "2025-04-19T21:53:46.370486Z",
     "start_time": "2025-04-19T21:53:46.365050Z"
    }
   },
   "cell_type": "code",
   "source": [
    "from urllib.parse import urlparse\n",
    "import posixpath\n",
    "\n",
    "def extractfile(url):\n",
    "    urlpath = urlparse(url).path\n",
    "    if urlpath:\n",
    "        setup = urlpath.count(\"/\")\n",
    "        if setup >= 2:\n",
    "            directory = posixpath.basename(urlpath)\n",
    "            return len(directory)\n",
    "        else:\n",
    "            return 0\n",
    "    else:\n",
    "        return -1\n",
    "\n",
    "def extractdir(url):\n",
    "    urlpath = urlparse(url).path\n",
    "    if urlpath:\n",
    "        setup = urlpath.count(\"/\")\n",
    "        if setup >= 2:\n",
    "            directory = posixpath.dirname(urlpath)\n",
    "            return len(directory)\n",
    "        else:\n",
    "            directory = posixpath.basename(urlpath)\n",
    "            return len(directory)\n",
    "    else:\n",
    "        return -1\n",
    "\n",
    "extractfile(\"https://www.example.com/blog/2024/tech/latest-news/index.html?param1=value1&param2=value2#section\")\n"
   ],
   "id": "ba99242fe9d4934",
   "outputs": [
    {
     "data": {
      "text/plain": [
       "10"
      ]
     },
     "execution_count": 14,
     "metadata": {},
     "output_type": "execute_result"
    }
   ],
   "execution_count": 14
  },
  {
   "metadata": {},
   "cell_type": "markdown",
   "source": "We then need to deal with IP-based queries, this requires pulling the IP for a URL using socket and then querying against a local ASN database to find the relevant value.",
   "id": "3a322226e7031056"
  },
  {
   "metadata": {
    "ExecuteTime": {
     "end_time": "2025-04-19T21:54:03.391956Z",
     "start_time": "2025-04-19T21:54:03.358626Z"
    }
   },
   "cell_type": "code",
   "source": [
    "import socket\n",
    "from urllib.parse import urlparse\n",
    "\n",
    "# Function to resolve hostname to IP address\n",
    "def resolve_hostname_to_ip(url):\n",
    "    try:\n",
    "        hostname =  urlparse(url).hostname\n",
    "        ip_address = socket.gethostbyname(hostname)\n",
    "        return ip_address\n",
    "    except:\n",
    "        return None\n",
    "\n",
    "resolve_hostname_to_ip(\"http://www.iracing.com/tracks/gateway-motorsports-park/\")\n"
   ],
   "id": "8f33514b0735de8b",
   "outputs": [
    {
     "data": {
      "text/plain": [
       "'52.5.52.172'"
      ]
     },
     "execution_count": 16,
     "metadata": {},
     "output_type": "execute_result"
    }
   ],
   "execution_count": 16
  },
  {
   "metadata": {},
   "cell_type": "markdown",
   "source": "The initial implementation for finding the ASN value was to utilise the IPWHOIS library to perform lookups for each IP. However, this method is excessively time-consuming if performed on an entire dataset. As such, the pyasn library was utilised as it is suited for operating on large amounts of data.",
   "id": "99a3a78df3292136"
  },
  {
   "metadata": {
    "ExecuteTime": {
     "end_time": "2025-04-19T21:54:19.559440Z",
     "start_time": "2025-04-19T21:54:19.101038Z"
    }
   },
   "cell_type": "code",
   "source": [
    "import pyasn\n",
    "\n",
    "def extract_asn2(ip):\n",
    "    asndb = pyasn.pyasn('utilities/rib.dat')\n",
    "    asn = asndb.lookup(ip)\n",
    "    return asn[0]\n",
    "\n",
    "def full_asn2(url):\n",
    "    ip = resolve_hostname_to_ip(url)\n",
    "    if ip:\n",
    "        asn = extract_asn2(ip)\n",
    "        return asn\n",
    "    else:\n",
    "        return -1\n",
    "\n",
    "full_asn2(\"http://www.iracing.com/tracks/gateway-motorsports-park/\")\n"
   ],
   "id": "7cbe685635b3fb82",
   "outputs": [
    {
     "data": {
      "text/plain": [
       "14618"
      ]
     },
     "execution_count": 18,
     "metadata": {},
     "output_type": "execute_result"
    }
   ],
   "execution_count": 18
  },
  {
   "metadata": {},
   "cell_type": "markdown",
   "source": "We now have to apply these functions to the Kaggle dataset and extract the relevant features, and then append these features to the dataset. We do this by creating a dictionary to store the values, then applying this function iteratively for every URL in the dataset. The results are then stored to a dataframe that is a conjunction of the original dataset and the new data, this is then exported to a csv file.",
   "id": "baca029c82b19857"
  },
  {
   "metadata": {
    "ExecuteTime": {
     "end_time": "2025-04-19T21:27:24.402407Z",
     "start_time": "2025-04-19T20:12:42.937214Z"
    }
   },
   "cell_type": "code",
   "source": [
    "def extract_features(url):\n",
    "    # Collect all the extracted features in a dictionary\n",
    "    features = {}\n",
    "    # Directory Length\n",
    "    features['directory_length'] = extractdir(url)\n",
    "    # File Length\n",
    "    features['file_length'] = extractfile(url)\n",
    "    # Parameter Length\n",
    "    features['params_length'] = extractparams(url)\n",
    "    # ASN IP\n",
    "    try:\n",
    "        ip = resolve_hostname_to_ip(url)\n",
    "        features['asn_ip'] = full_asn2(url) if ip else -1\n",
    "    except:\n",
    "        features['asn_ip'] = -1\n",
    "\n",
    "    return features\n",
    "\n",
    "\n",
    "# Function to apply feature extraction to entire dataset\n",
    "def extract_features_dataset(dataframe):\n",
    "    # Create a copy of the dataframe to avoid modifying the original\n",
    "    df_extracted = dataframe.copy()\n",
    "\n",
    "    # Apply feature extraction to each URL\n",
    "    # Apply feature extraction to each URL with progress tracking\n",
    "    extracted_features = df_extracted['url'].apply(extract_features)\n",
    "\n",
    "    # Convert the list of dictionaries to a DataFrame\n",
    "    features_df = pd.DataFrame(extracted_features.tolist())\n",
    "\n",
    "    # Concatenate the original dataframe with the extracted features\n",
    "    final_df = pd.concat([df_extracted, features_df], axis=1)\n",
    "\n",
    "    return final_df\n",
    "\n",
    "def save_extracted_dataset(extracted_dataframe, output_filename):\n",
    "    extracted_dataframe.to_csv(output_filename, index=False)\n",
    "    print(f\"Dataset saved to {output_filename}\")\n",
    "    print(f\"Dataset shape: {extracted_dataframe.shape}\")\n",
    "\n",
    "kaggle_extracted = extract_features_dataset(kaggleData)\n",
    "save_extracted_dataset(kaggle_extracted, 'Datasets/Intermediate_Datasets/kaggle_extracted_features.csv')"
   ],
   "id": "45ba1ccf628cf611",
   "outputs": [
    {
     "name": "stdout",
     "output_type": "stream",
     "text": [
      "Dataset saved to Datasets/kaggle_extracted_features.csv\n",
      "Dataset shape: (11430, 93)\n"
     ]
    }
   ],
   "execution_count": 16
  },
  {
   "metadata": {},
   "cell_type": "markdown",
   "source": "We have now created a dataset encompassing all the data we need. We can then normalise the necessary data. Currently, the status of the URL is stored as a string, being labelled as 'legitimate' or 'phishing', as such we can once again iterate through the dataset and add a new label that is consistent with the PhishTank dataset.",
   "id": "1f7200741f66cf23"
  },
  {
   "metadata": {
    "ExecuteTime": {
     "end_time": "2025-04-21T16:43:18.498521Z",
     "start_time": "2025-04-21T16:43:18.185138Z"
    }
   },
   "cell_type": "code",
   "source": [
    "extractedKaggleData = pd.read_csv('Datasets/Intermediate_Datasets/kaggle_extracted_features.csv')\n",
    "def phishing_tag(value):\n",
    "    if value == \"phishing\":\n",
    "        return 1\n",
    "    else:\n",
    "        return 0\n",
    "\n",
    "def phishing_tag2(value):\n",
    "    features = {}\n",
    "    features['phishing'] = phishing_tag(value)\n",
    "    return features\n",
    "\n",
    "def normalise_dataset(dataframe):\n",
    "    # Create a copy of the dataframe to avoid modifying the original\n",
    "    df_extracted = dataframe.copy()\n",
    "\n",
    "    # Apply feature extraction to each URL\n",
    "    # Apply feature extraction to each URL with progress tracking\n",
    "    corrected_values = df_extracted['status'].apply(phishing_tag2)\n",
    "\n",
    "    # Convert the list of dictionaries to a DataFrame\n",
    "    features_df = pd.DataFrame(corrected_values.tolist())\n",
    "\n",
    "    # Concatenate the original dataframe with the extracted features\n",
    "    final_df = pd.concat([df_extracted, features_df], axis=1)\n",
    "\n",
    "    return final_df\n",
    "\n",
    "kaggle_finalised = normalise_dataset(extractedKaggleData)\n",
    "save_extracted_dataset(kaggle_finalised, 'Datasets/Intermediate_Datasets/normalised_kaggle_features.csv')\n"
   ],
   "id": "242e447eaf800100",
   "outputs": [
    {
     "name": "stdout",
     "output_type": "stream",
     "text": [
      "Dataset saved to Datasets/Intermediate_Datasets/normalised_kaggle_features.csv\n",
      "Dataset shape: (11430, 94)\n"
     ]
    }
   ],
   "execution_count": 40
  },
  {
   "metadata": {},
   "cell_type": "markdown",
   "source": "Now we extract the necessary columns and we have our complete dataset.",
   "id": "c4bdb05ae6addc9"
  },
  {
   "metadata": {
    "ExecuteTime": {
     "end_time": "2025-04-21T16:47:04.209298Z",
     "start_time": "2025-04-21T16:47:04.091870Z"
    }
   },
   "cell_type": "code",
   "source": [
    "selected_features2 = [\n",
    "    'length_url', 'length_hostname', 'directory_length', 'file_length',\n",
    "    'params_length', 'nb_slash', 'nb_dots', 'ip',\n",
    "    'nb_at', 'asn_ip', 'domain_age', 'domain_registration_length',\n",
    "    'nb_hyphens', 'google_index', 'shortening_service', 'phishing'\n",
    "]\n",
    "\n",
    "normalisedKaggleData = pd.read_csv('Datasets/Intermediate_Datasets/normalised_kaggle_features.csv')\n",
    "extracted_dataset = normalisedKaggleData[selected_features2]\n",
    "\n",
    "# Save to a separate CSV file\n",
    "extracted_dataset.to_csv('Datasets/Final_datasets/final_kaggle_data.csv', index=False)\n"
   ],
   "id": "e69cd47885bd1a4c",
   "outputs": [],
   "execution_count": 43
  },
  {
   "metadata": {
    "ExecuteTime": {
     "end_time": "2025-04-21T16:53:56.503885Z",
     "start_time": "2025-04-21T16:53:56.447092Z"
    }
   },
   "cell_type": "code",
   "source": [
    "finalKaggleData = pd.read_csv('Datasets/Final_datasets/final_kaggle_data.csv')\n",
    "finalPhishtankData = pd.read_csv('Datasets/Final_datasets/extracted_phishtank_features.csv')"
   ],
   "id": "3274ea4cd7ff07c9",
   "outputs": [],
   "execution_count": 52
  },
  {
   "metadata": {},
   "cell_type": "markdown",
   "source": "Now that all features have been extracted, we can normalise feature names and remove any invalid rows that have missing data.",
   "id": "a9805870b4d8431d"
  },
  {
   "metadata": {
    "ExecuteTime": {
     "end_time": "2025-04-21T22:09:29.549956Z",
     "start_time": "2025-04-21T22:09:29.509794Z"
    }
   },
   "cell_type": "code",
   "source": [
    "finalKaggleData.columns = finalPhishtankData.columns\n",
    "save_extracted_dataset(finalKaggleData, 'Datasets/Final_datasets/final_kaggle_data.csv')"
   ],
   "id": "22398ba2f51d5a0b",
   "outputs": [
    {
     "name": "stdout",
     "output_type": "stream",
     "text": [
      "Dataset saved to Datasets/Final_datasets/final_kaggle_data.csv\n",
      "Dataset shape: (11430, 16)\n"
     ]
    }
   ],
   "execution_count": 60
  },
  {
   "metadata": {
    "ExecuteTime": {
     "end_time": "2025-04-22T00:39:40.845607Z",
     "start_time": "2025-04-22T00:39:40.837623Z"
    }
   },
   "cell_type": "code",
   "source": [
    "# Checking for missing values using isnull()\n",
    "mv = finalKaggleData.isnull()\n",
    "for i in mv.columns:\n",
    "    print(f\"{i}: {mv[i].sum()}\")"
   ],
   "id": "1e4e1a9d96518589",
   "outputs": [
    {
     "name": "stdout",
     "output_type": "stream",
     "text": [
      "length_url: 0\n",
      "domain_length: 0\n",
      "directory_length: 0\n",
      "file_length: 0\n",
      "params_length: 0\n",
      "qty_slash_url: 0\n",
      "qty_dot_url: 0\n",
      "domain_in_ip: 0\n",
      "qty_at_url: 0\n",
      "asn_ip: 17\n",
      "time_domain_activation: 0\n",
      "time_domain_expiration: 0\n",
      "qty_hyphen_url: 0\n",
      "url_google_index: 0\n",
      "url_shortened: 0\n",
      "phishing: 0\n"
     ]
    }
   ],
   "execution_count": 61
  },
  {
   "metadata": {
    "ExecuteTime": {
     "end_time": "2025-04-22T00:42:39.414554Z",
     "start_time": "2025-04-22T00:42:39.208273Z"
    }
   },
   "cell_type": "code",
   "source": [
    "# Remove rows where ASN IP is missing\n",
    "finalKaggleData = finalKaggleData.dropna(subset=['asn_ip'])\n",
    "save_extracted_dataset(finalKaggleData, 'Datasets/Final_datasets/final_kaggle_data.csv')\n"
   ],
   "id": "28639fede83956af",
   "outputs": [
    {
     "name": "stdout",
     "output_type": "stream",
     "text": [
      "Dataset saved to Datasets/Final_datasets/final_kaggle_data.csv\n",
      "Dataset shape: (11413, 16)\n"
     ]
    }
   ],
   "execution_count": 62
  },
  {
   "metadata": {
    "ExecuteTime": {
     "end_time": "2025-04-22T00:47:21.434692Z",
     "start_time": "2025-04-22T00:47:21.424828Z"
    }
   },
   "cell_type": "code",
   "source": "finalKaggleData.head()",
   "id": "4a2e86c7dfb4a053",
   "outputs": [
    {
     "data": {
      "text/plain": [
       "   length_url  domain_length  directory_length  file_length  params_length  \\\n",
       "0          37             19                10            0             -1   \n",
       "1          77             23                14           32             -1   \n",
       "2         126             50                19            0             47   \n",
       "3          18             11                -1           -1             -1   \n",
       "4          55             15                32            0             -1   \n",
       "\n",
       "   qty_slash_url  qty_dot_url  domain_in_ip  qty_at_url   asn_ip  \\\n",
       "0              3            3             0           0  32244.0   \n",
       "1              5            1             1           0  16509.0   \n",
       "2              5            4             1           0     -1.0   \n",
       "3              2            2             0           0  55824.0   \n",
       "4              5            2             0           0  14618.0   \n",
       "\n",
       "   time_domain_activation  time_domain_expiration  qty_hyphen_url  \\\n",
       "0                      -1                      45               0   \n",
       "1                    5767                      77               0   \n",
       "2                    4004                      14               1   \n",
       "3                      -1                      62               0   \n",
       "4                    8175                     224               2   \n",
       "\n",
       "   url_google_index  url_shortened  phishing  \n",
       "0                 1              0         0  \n",
       "1                 1              0         1  \n",
       "2                 1              0         1  \n",
       "3                 0              0         0  \n",
       "4                 0              0         0  "
      ],
      "text/html": [
       "<div>\n",
       "<style scoped>\n",
       "    .dataframe tbody tr th:only-of-type {\n",
       "        vertical-align: middle;\n",
       "    }\n",
       "\n",
       "    .dataframe tbody tr th {\n",
       "        vertical-align: top;\n",
       "    }\n",
       "\n",
       "    .dataframe thead th {\n",
       "        text-align: right;\n",
       "    }\n",
       "</style>\n",
       "<table border=\"1\" class=\"dataframe\">\n",
       "  <thead>\n",
       "    <tr style=\"text-align: right;\">\n",
       "      <th></th>\n",
       "      <th>length_url</th>\n",
       "      <th>domain_length</th>\n",
       "      <th>directory_length</th>\n",
       "      <th>file_length</th>\n",
       "      <th>params_length</th>\n",
       "      <th>qty_slash_url</th>\n",
       "      <th>qty_dot_url</th>\n",
       "      <th>domain_in_ip</th>\n",
       "      <th>qty_at_url</th>\n",
       "      <th>asn_ip</th>\n",
       "      <th>time_domain_activation</th>\n",
       "      <th>time_domain_expiration</th>\n",
       "      <th>qty_hyphen_url</th>\n",
       "      <th>url_google_index</th>\n",
       "      <th>url_shortened</th>\n",
       "      <th>phishing</th>\n",
       "    </tr>\n",
       "  </thead>\n",
       "  <tbody>\n",
       "    <tr>\n",
       "      <th>0</th>\n",
       "      <td>37</td>\n",
       "      <td>19</td>\n",
       "      <td>10</td>\n",
       "      <td>0</td>\n",
       "      <td>-1</td>\n",
       "      <td>3</td>\n",
       "      <td>3</td>\n",
       "      <td>0</td>\n",
       "      <td>0</td>\n",
       "      <td>32244.0</td>\n",
       "      <td>-1</td>\n",
       "      <td>45</td>\n",
       "      <td>0</td>\n",
       "      <td>1</td>\n",
       "      <td>0</td>\n",
       "      <td>0</td>\n",
       "    </tr>\n",
       "    <tr>\n",
       "      <th>1</th>\n",
       "      <td>77</td>\n",
       "      <td>23</td>\n",
       "      <td>14</td>\n",
       "      <td>32</td>\n",
       "      <td>-1</td>\n",
       "      <td>5</td>\n",
       "      <td>1</td>\n",
       "      <td>1</td>\n",
       "      <td>0</td>\n",
       "      <td>16509.0</td>\n",
       "      <td>5767</td>\n",
       "      <td>77</td>\n",
       "      <td>0</td>\n",
       "      <td>1</td>\n",
       "      <td>0</td>\n",
       "      <td>1</td>\n",
       "    </tr>\n",
       "    <tr>\n",
       "      <th>2</th>\n",
       "      <td>126</td>\n",
       "      <td>50</td>\n",
       "      <td>19</td>\n",
       "      <td>0</td>\n",
       "      <td>47</td>\n",
       "      <td>5</td>\n",
       "      <td>4</td>\n",
       "      <td>1</td>\n",
       "      <td>0</td>\n",
       "      <td>-1.0</td>\n",
       "      <td>4004</td>\n",
       "      <td>14</td>\n",
       "      <td>1</td>\n",
       "      <td>1</td>\n",
       "      <td>0</td>\n",
       "      <td>1</td>\n",
       "    </tr>\n",
       "    <tr>\n",
       "      <th>3</th>\n",
       "      <td>18</td>\n",
       "      <td>11</td>\n",
       "      <td>-1</td>\n",
       "      <td>-1</td>\n",
       "      <td>-1</td>\n",
       "      <td>2</td>\n",
       "      <td>2</td>\n",
       "      <td>0</td>\n",
       "      <td>0</td>\n",
       "      <td>55824.0</td>\n",
       "      <td>-1</td>\n",
       "      <td>62</td>\n",
       "      <td>0</td>\n",
       "      <td>0</td>\n",
       "      <td>0</td>\n",
       "      <td>0</td>\n",
       "    </tr>\n",
       "    <tr>\n",
       "      <th>4</th>\n",
       "      <td>55</td>\n",
       "      <td>15</td>\n",
       "      <td>32</td>\n",
       "      <td>0</td>\n",
       "      <td>-1</td>\n",
       "      <td>5</td>\n",
       "      <td>2</td>\n",
       "      <td>0</td>\n",
       "      <td>0</td>\n",
       "      <td>14618.0</td>\n",
       "      <td>8175</td>\n",
       "      <td>224</td>\n",
       "      <td>2</td>\n",
       "      <td>0</td>\n",
       "      <td>0</td>\n",
       "      <td>0</td>\n",
       "    </tr>\n",
       "  </tbody>\n",
       "</table>\n",
       "</div>"
      ]
     },
     "execution_count": 63,
     "metadata": {},
     "output_type": "execute_result"
    }
   ],
   "execution_count": 63
  },
  {
   "metadata": {
    "ExecuteTime": {
     "end_time": "2025-04-22T00:50:39.663002Z",
     "start_time": "2025-04-22T00:50:39.625444Z"
    }
   },
   "cell_type": "code",
   "source": [
    "non_integer_rows = finalKaggleData[finalKaggleData['asn_ip'] % 1 != 0]\n",
    "if len(non_integer_rows) > 0:\n",
    "    print(\"Warning: Some rows contain non-integer values\") #used to convert the float values of the asn to integers for consistency\n",
    "    print(non_integer_rows)\n",
    "else:\n",
    "    finalKaggleData['asn_ip'] = finalKaggleData['asn_ip'].astype(int)\n",
    "\n",
    "save_extracted_dataset(finalKaggleData, 'Datasets/Final_datasets/final_kaggle_data.csv')\n"
   ],
   "id": "852188d407f5a51e",
   "outputs": [
    {
     "name": "stdout",
     "output_type": "stream",
     "text": [
      "Dataset saved to Datasets/Final_datasets/final_kaggle_data.csv\n",
      "Dataset shape: (11413, 16)\n"
     ]
    }
   ],
   "execution_count": 69
  },
  {
   "metadata": {
    "ExecuteTime": {
     "end_time": "2025-04-22T01:52:39.434271Z",
     "start_time": "2025-04-22T01:52:37.959926Z"
    }
   },
   "cell_type": "code",
   "source": "finalPhishtankData.duplicated().sum()",
   "id": "1de50ec39e33c30c",
   "outputs": [
    {
     "data": {
      "text/plain": [
       "np.int64(15043)"
      ]
     },
     "execution_count": 71,
     "metadata": {},
     "output_type": "execute_result"
    }
   ],
   "execution_count": 71
  },
  {
   "metadata": {},
   "cell_type": "markdown",
   "source": "Remove duplicate data from the dataset.",
   "id": "270255dbd648d8a5"
  },
  {
   "metadata": {
    "ExecuteTime": {
     "end_time": "2025-04-22T01:59:39.626758Z",
     "start_time": "2025-04-22T01:59:39.495360Z"
    }
   },
   "cell_type": "code",
   "source": [
    "finalPhishtankData = finalPhishtankData.drop_duplicates()\n",
    "save_extracted_dataset(finalPhishtankData, 'Datasets/Final_datasets/extracted_phishtank_features.csv')"
   ],
   "id": "809a09d78d637c2f",
   "outputs": [
    {
     "name": "stdout",
     "output_type": "stream",
     "text": [
      "Dataset saved to Datasets/Final_datasets/extracted_phishtank_features.csv\n",
      "Dataset shape: (43602, 16)\n"
     ]
    }
   ],
   "execution_count": 74
  },
  {
   "metadata": {
    "ExecuteTime": {
     "end_time": "2025-04-22T01:59:59.895560Z",
     "start_time": "2025-04-22T01:59:59.887366Z"
    }
   },
   "cell_type": "code",
   "source": "finalKaggleData.duplicated().sum()",
   "id": "84c6a038a88ea6fe",
   "outputs": [
    {
     "data": {
      "text/plain": [
       "np.int64(951)"
      ]
     },
     "execution_count": 75,
     "metadata": {},
     "output_type": "execute_result"
    }
   ],
   "execution_count": 75
  },
  {
   "metadata": {
    "ExecuteTime": {
     "end_time": "2025-04-22T02:00:32.317646Z",
     "start_time": "2025-04-22T02:00:32.279949Z"
    }
   },
   "cell_type": "code",
   "source": [
    "finalKaggleData = finalKaggleData.drop_duplicates()\n",
    "save_extracted_dataset(finalKaggleData, 'Datasets/Final_datasets/final_kaggle_data.csv')"
   ],
   "id": "a407a8a2b5672ac",
   "outputs": [
    {
     "name": "stdout",
     "output_type": "stream",
     "text": [
      "Dataset saved to Datasets/Final_datasets/final_kaggle_data.csv\n",
      "Dataset shape: (10462, 16)\n"
     ]
    }
   ],
   "execution_count": 76
  }
 ],
 "metadata": {
  "kernelspec": {
   "display_name": "Python 3",
   "language": "python",
   "name": "python3"
  },
  "language_info": {
   "codemirror_mode": {
    "name": "ipython",
    "version": 2
   },
   "file_extension": ".py",
   "mimetype": "text/x-python",
   "name": "python",
   "nbconvert_exporter": "python",
   "pygments_lexer": "ipython2",
   "version": "2.7.6"
  }
 },
 "nbformat": 4,
 "nbformat_minor": 5
}
